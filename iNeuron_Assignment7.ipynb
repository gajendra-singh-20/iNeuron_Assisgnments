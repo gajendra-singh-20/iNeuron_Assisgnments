{
 "cells": [
  {
   "cell_type": "code",
   "execution_count": 1,
   "id": "3b0256e2",
   "metadata": {},
   "outputs": [
    {
     "name": "stdout",
     "output_type": "stream",
     "text": [
      "First variable is 10 & second variable is 5\n",
      "Addition: 10 + 5 = 15\n",
      "Subtraction: 10 - 5 = 5\n",
      "Multiplication: 10 * 5 = 50\n",
      "Division: 10 / 5 = 2.0\n"
     ]
    }
   ],
   "source": [
    "# Q.1. Create two int type variables, apply addition, subtraction, division and multiplications\n",
    "# and store the results in variables. Then print the data in the following format by calling the\n",
    "# variables:\n",
    "# First variable is __ & second variable is __.\n",
    "# Addition: __ + __ = __\n",
    "# Subtraction: __ - __ = __\n",
    "# Multiplication: __ * __ = __\n",
    "# Division: __ / __ = __\n",
    "\n",
    "\n",
    "# Create two int variables\n",
    "first_variable = 10\n",
    "second_variable = 5\n",
    "\n",
    "# Perform the operations and store the results\n",
    "addition = first_variable + second_variable\n",
    "subtraction = first_variable - second_variable\n",
    "multiplication = first_variable * second_variable\n",
    "division = first_variable / second_variable\n",
    "\n",
    "# Print the results in the requested format\n",
    "print(\"First variable is\", first_variable, \"& second variable is\", second_variable)\n",
    "print(\"Addition:\", first_variable, \"+\", second_variable, \"=\", addition)\n",
    "print(\"Subtraction:\", first_variable, \"-\", second_variable, \"=\", subtraction)\n",
    "print(\"Multiplication:\", first_variable, \"*\", second_variable, \"=\", multiplication)\n",
    "print(\"Division:\", first_variable, \"/\", second_variable, \"=\", division)\n"
   ]
  },
  {
   "cell_type": "code",
   "execution_count": 2,
   "id": "6a515227",
   "metadata": {},
   "outputs": [
    {
     "name": "stdout",
     "output_type": "stream",
     "text": [
      "3.3333333333333335\n",
      "3\n",
      "8\n",
      "6\n"
     ]
    }
   ],
   "source": [
    "# Q.2. What is the difference between the following operators:\n",
    "# (i) ‘/’ & ‘//’\n",
    "\n",
    "# (i) The operators / and // are both used for division, but they have different behaviors.\n",
    "a = 10\n",
    "b = 3\n",
    "\n",
    "result1 = a / b   # Floating-point division\n",
    "result2 = a // b  # Floor division\n",
    "\n",
    "print(result1)   # Output: 3.3333333333333335\n",
    "print(result2)   # Output: 3\n",
    "\n",
    "\n",
    "# (ii) ‘**’ & ‘^’\n",
    "# (ii) The operators ** and ^ are used for exponentiation, but they have different meanings in Python\n",
    "a = 2\n",
    "b = 3\n",
    "\n",
    "result1 = a ** b  # Exponentiation\n",
    "result2 = 5 ^ 3   # Bitwise XOR\n",
    "\n",
    "print(result1)   # Output: 8\n",
    "print(result2)   # Output: 6\n"
   ]
  },
  {
   "cell_type": "code",
   "execution_count": 3,
   "id": "e2e7ff46",
   "metadata": {},
   "outputs": [
    {
     "name": "stdout",
     "output_type": "stream",
     "text": [
      "False\n",
      "True\n",
      "False\n"
     ]
    }
   ],
   "source": [
    "# Q.3. List the logical operators.\n",
    "\n",
    "\n",
    "# and: The and operator returns True if both operands are True, otherwise it returns False.\n",
    "# or: The or operator returns True if at least one of the operands is True, otherwise it returns False.\n",
    "# not: The not operator returns the negation of the operand. If the operand is True, it returns False, and if the operand\n",
    "# is False, it returns True. It performs a logical NOT operation.\n",
    "a = 5\n",
    "b = 10\n",
    "c = 3\n",
    "\n",
    "result1 = (a < b) and (b < c)\n",
    "result2 = (a < b) or (b < c)\n",
    "result3 = not (a < b)\n",
    "\n",
    "print(result1)   # Output: False\n",
    "print(result2)   # Output: True\n",
    "print(result3)   # Output: False\n"
   ]
  },
  {
   "cell_type": "code",
   "execution_count": 4,
   "id": "5f2deda0",
   "metadata": {},
   "outputs": [
    {
     "name": "stdout",
     "output_type": "stream",
     "text": [
      "3\n",
      "20\n"
     ]
    }
   ],
   "source": [
    "# Q.4. Explain right shift operator and left shift operator with examples.\n",
    "\n",
    "\n",
    "# The right shift operator (>>) shifts the bits of the left operand to the right by the number of positions specified by\n",
    "# the right operand.\n",
    "a = 12  # Binary: 1100\n",
    "\n",
    "result = a >> 2  # Shift right by 2 positions\n",
    "\n",
    "print(result)  # Output: 3 (Binary: 11)\n",
    "\n",
    "\n",
    "# The left shift operator (<<) shifts the bits of the left operand to the left by the number of positions specified by\n",
    "# the right operand.\n",
    "a = 5  # Binary: 101\n",
    "\n",
    "result = a << 2  # Shift left by 2 positions\n",
    "\n",
    "print(result)  # Output: 20 (Binary: 10100)\n"
   ]
  },
  {
   "cell_type": "code",
   "execution_count": 5,
   "id": "81156761",
   "metadata": {},
   "outputs": [
    {
     "name": "stdout",
     "output_type": "stream",
     "text": [
      "10 is present in the list.\n"
     ]
    }
   ],
   "source": [
    "# Q.5. Create a list containing int type data of length 15. Then write a code to check if 10 is present in the list or not.\n",
    "\n",
    "\n",
    "# Create a list of integers\n",
    "my_list = [5, 2, 8, 10, 7, 3, 12, 9, 6, 1, 4, 11, 13, 15, 14]\n",
    "\n",
    "# Check if 10 is present in the list\n",
    "if 10 in my_list:\n",
    "    print(\"10 is present in the list.\")\n",
    "else:\n",
    "    print(\"10 is not present in the list.\")\n"
   ]
  }
 ],
 "metadata": {
  "kernelspec": {
   "display_name": "Python 3 (ipykernel)",
   "language": "python",
   "name": "python3"
  },
  "language_info": {
   "codemirror_mode": {
    "name": "ipython",
    "version": 3
   },
   "file_extension": ".py",
   "mimetype": "text/x-python",
   "name": "python",
   "nbconvert_exporter": "python",
   "pygments_lexer": "ipython3",
   "version": "3.10.9"
  }
 },
 "nbformat": 4,
 "nbformat_minor": 5
}
