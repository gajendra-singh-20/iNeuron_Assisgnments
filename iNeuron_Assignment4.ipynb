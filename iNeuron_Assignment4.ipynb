{
 "cells": [
  {
   "cell_type": "code",
   "execution_count": 1,
   "id": "aa4ddbe2",
   "metadata": {},
   "outputs": [
    {
     "name": "stdout",
     "output_type": "stream",
     "text": [
      "[]\n"
     ]
    }
   ],
   "source": [
    "# 1. What exactly is []?\n",
    "\n",
    "# It is a symbol of representing the empty list.\n",
    "my_list=[]\n",
    "print(my_list)"
   ]
  },
  {
   "cell_type": "code",
   "execution_count": 2,
   "id": "5f0e7628",
   "metadata": {},
   "outputs": [
    {
     "name": "stdout",
     "output_type": "stream",
     "text": [
      "[2, 4, 'hello', 8, 10]\n"
     ]
    }
   ],
   "source": [
    "# 2. In a list of values stored in a variable called spam, how would you assign the value 'hello' as the third value?\n",
    "# (Assume [2, 4, 6, 8, 10] are in spam.)\n",
    "spam=[2,4,6,8,10]\n",
    "spam[2]='hello'#because index starts from zero it will assign 'hello' at third place\n",
    "print(spam)"
   ]
  },
  {
   "cell_type": "code",
   "execution_count": 3,
   "id": "f9e4c4df",
   "metadata": {},
   "outputs": [
    {
     "data": {
      "text/plain": [
       "'d'"
      ]
     },
     "execution_count": 3,
     "metadata": {},
     "output_type": "execute_result"
    }
   ],
   "source": [
    "# 3. What is the value of spam[int(int('3' * 2) / 11)]?\n",
    "spam=['a', 'b', 'c', 'd']\n",
    "spam[int(int('3' * 2) / 11)] #output = 'd', because '3'*2 = 33 / 11 = 3 so, spam[3]='d'"
   ]
  },
  {
   "cell_type": "code",
   "execution_count": 4,
   "id": "b4f52db6",
   "metadata": {
    "scrolled": true
   },
   "outputs": [
    {
     "data": {
      "text/plain": [
       "'d'"
      ]
     },
     "execution_count": 4,
     "metadata": {},
     "output_type": "execute_result"
    }
   ],
   "source": [
    "# 4. What is the value of spam[-1]?\n",
    "spam[-1] "
   ]
  },
  {
   "cell_type": "code",
   "execution_count": 5,
   "id": "7e6361e6",
   "metadata": {},
   "outputs": [
    {
     "data": {
      "text/plain": [
       "['a', 'b']"
      ]
     },
     "execution_count": 5,
     "metadata": {},
     "output_type": "execute_result"
    }
   ],
   "source": [
    "# 5. What is the value of spam[:2]?\n",
    "spam[:2]"
   ]
  },
  {
   "cell_type": "code",
   "execution_count": 6,
   "id": "53797e1d",
   "metadata": {},
   "outputs": [
    {
     "data": {
      "text/plain": [
       "1"
      ]
     },
     "execution_count": 6,
     "metadata": {},
     "output_type": "execute_result"
    }
   ],
   "source": [
    "bacon=[3.14,'cat',11,'cat',True]\n",
    "# 6. What is the value of bacon.index('cat')?\n",
    "bacon.index('cat')"
   ]
  },
  {
   "cell_type": "code",
   "execution_count": 7,
   "id": "96529c7e",
   "metadata": {},
   "outputs": [
    {
     "name": "stdout",
     "output_type": "stream",
     "text": [
      "[3.14, 'cat', 11, 'cat', True]\n",
      "[3.14, 'cat', 11, 'cat', True, 99]\n"
     ]
    }
   ],
   "source": [
    "# 7. How does bacon.append(99) change the look of the list value in bacon?\n",
    "print(bacon)\n",
    "bacon.append(99)\n",
    "print(bacon)"
   ]
  },
  {
   "cell_type": "code",
   "execution_count": 8,
   "id": "5d345b6a",
   "metadata": {},
   "outputs": [
    {
     "name": "stdout",
     "output_type": "stream",
     "text": [
      "[3.14, 'cat', 11, 'cat', True, 99]\n",
      "[3.14, 11, 'cat', True, 99]\n"
     ]
    }
   ],
   "source": [
    "# 8. How does bacon.remove(&#39;cat&#39;) change the look of the list in bacon?\n",
    "\n",
    "print(bacon)\n",
    "bacon.remove('cat')\n",
    "print(bacon)"
   ]
  },
  {
   "cell_type": "code",
   "execution_count": 9,
   "id": "04b0a39d",
   "metadata": {},
   "outputs": [
    {
     "name": "stdout",
     "output_type": "stream",
     "text": [
      "[1, 2, 3, 4, 5, 6]\n",
      "[1, 2, 3, 1, 2, 3, 1, 2, 3]\n"
     ]
    }
   ],
   "source": [
    "# 9. What are the list concatenation and list replication operators?\n",
    "\n",
    "# List concatenation operator is (+) that will add the string.\n",
    "# List replication operator is (*) that will replicate the string into the numbers we have provided.\n",
    "\n",
    "list1 = [1, 2, 3]\n",
    "list2 = [4, 5, 6]\n",
    "concatenated_list = list1 + list2 #Concatenation\n",
    "\n",
    "print(concatenated_list)\n",
    "# -------------------------------------\n",
    "list1 = [1, 2, 3]\n",
    "replicated_list = list1 * 3 #Replication\n",
    "\n",
    "print(replicated_list)"
   ]
  },
  {
   "cell_type": "code",
   "execution_count": 10,
   "id": "661b3092",
   "metadata": {},
   "outputs": [
    {
     "name": "stdout",
     "output_type": "stream",
     "text": [
      "[1, 2, 3, 4]\n",
      "[1, 4, 2, 3]\n"
     ]
    }
   ],
   "source": [
    "# 10. What is difference between the list methods append() and insert()?\n",
    "\n",
    "# The append() method is used to add an element to the end of a list. It takes a single argument\n",
    "my_list = [1, 2, 3]\n",
    "my_list.append(4)\n",
    "\n",
    "print(my_list)\n",
    "\n",
    "# The insert() method is used to add an element at a specific position in a list. It takes two arguments\n",
    "my_list = [1, 2, 3]\n",
    "my_list.insert(1, 4) #it will take first index and element you want to insert. my_listb.insert(index,element)\n",
    "\n",
    "print(my_list)\n",
    "\n"
   ]
  },
  {
   "cell_type": "code",
   "execution_count": 11,
   "id": "438231b8",
   "metadata": {},
   "outputs": [
    {
     "name": "stdout",
     "output_type": "stream",
     "text": [
      "[1, 3, 2, 4]\n",
      "[1, 3, 4]\n",
      "2\n"
     ]
    }
   ],
   "source": [
    "# 11. What are the two methods for removing items from a list?\n",
    "\n",
    "# The remove() method is used to remove the first occurrence of a specific element from a list.\n",
    "my_list = [1, 2, 3, 2, 4]\n",
    "my_list.remove(2)\n",
    "\n",
    "print(my_list)\n",
    "\n",
    "# The pop() method is used to remove an element from a list at a specified index. It takes an optional index argument \n",
    "my_list = [1, 2, 3, 4]\n",
    "removed_element = my_list.pop(1)\n",
    "\n",
    "print(my_list)\n",
    "print(removed_element)\n"
   ]
  },
  {
   "cell_type": "code",
   "execution_count": 12,
   "id": "ee45031a",
   "metadata": {},
   "outputs": [
    {
     "name": "stdout",
     "output_type": "stream",
     "text": [
      "3\n",
      "e\n",
      "[2, 3]\n",
      "ll\n",
      "1\n",
      "2\n",
      "3\n",
      "4\n",
      "H\n",
      "e\n",
      "l\n",
      "l\n",
      "o\n"
     ]
    }
   ],
   "source": [
    "# 12. Describe how list values and string values are identical.\n",
    "\n",
    "# Both lists and strings support indexing and slicing operations\n",
    "\n",
    "# Indexing\n",
    "my_list = [1, 2, 3, 4]\n",
    "my_string = \"Hello\"\n",
    "\n",
    "print(my_list[2])       # Output: 3\n",
    "print(my_string[1])     # Output: 'e'\n",
    "\n",
    "\n",
    "# Slicing\n",
    "my_list = [1, 2, 3, 4]\n",
    "my_string = \"Hello\"\n",
    "\n",
    "print(my_list[1:3])     # Output: [2, 3]\n",
    "print(my_string[2:4])   # Output: 'll'\n",
    "\n",
    "\n",
    "# Both lists and strings can be iterated over using loops or other iteration constructs\n",
    "my_list = [1, 2, 3, 4]\n",
    "my_string = \"Hello\"\n",
    "\n",
    "for element in my_list:\n",
    "    print(element)\n",
    "\n",
    "for char in my_string:\n",
    "    print(char)\n"
   ]
  },
  {
   "cell_type": "code",
   "execution_count": 13,
   "id": "039b78f7",
   "metadata": {
    "scrolled": true
   },
   "outputs": [
    {
     "name": "stdout",
     "output_type": "stream",
     "text": [
      "(1, 2, 3)\n",
      "[4, 2, 3, 4]\n"
     ]
    }
   ],
   "source": [
    "# 13. What is the difference between tuples and lists?\n",
    "\n",
    "# The main difference between tuples and lists is their mutability. Tuples are immutable where lists are mutable. That means we\n",
    "# can change the list values after declaring it but we can not do it with tuple.\n",
    "my_tuple = (1, 2, 3)    # Creating a tuple\n",
    "my_list = [1, 2, 3]     # Creating a list\n",
    "\n",
    "# my_tuple[0] = 4        # Error: Tuples are immutable\n",
    "my_list[0] = 4         # Modifying the first element of the list\n",
    "\n",
    "# my_tuple.append(4)     # Error: Tuples do not have append() method\n",
    "my_list.append(4)      # Appending an element to the list\n",
    "\n",
    "print(my_tuple)\n",
    "print(my_list)\n",
    "\n",
    "# Tuples are created by enclosing elements in parentheses (), separated by commas."
   ]
  },
  {
   "cell_type": "code",
   "execution_count": 14,
   "id": "d0d9c91f",
   "metadata": {},
   "outputs": [
    {
     "name": "stdout",
     "output_type": "stream",
     "text": [
      "<class 'int'>\n",
      "<class 'tuple'>\n"
     ]
    }
   ],
   "source": [
    "# 14. How do you type a tuple value that only contains the integer 42?\n",
    "\n",
    "# To create a tuple value that only contains the integer 42, you can enclose the integer within parentheses.\n",
    "my_tuple = (42,)\n",
    "# The trailing comma after 42 is necessary to indicate that it's a tuple with one element rather than just an integer\n",
    "# within parentheses.\n",
    "my_tuple = (42)\n",
    "print(type(my_tuple))  # Output: <class 'int'>\n",
    "\n",
    "my_tuple = (42,)\n",
    "print(type(my_tuple))  # Output: <class 'tuple'>\n"
   ]
  },
  {
   "cell_type": "code",
   "execution_count": 15,
   "id": "24f4f154",
   "metadata": {},
   "outputs": [
    {
     "name": "stdout",
     "output_type": "stream",
     "text": [
      "(1, 2, 3, 4)\n",
      "[1, 2, 3, 4]\n"
     ]
    }
   ],
   "source": [
    "# 15. How do you get a list value's tuple form? How do you get a tuple value's list form?\n",
    "\n",
    "# To convert a list value into its tuple form, you can use the tuple() function.\n",
    "my_list = [1, 2, 3, 4]\n",
    "my_tuple = tuple(my_list)\n",
    "\n",
    "print(my_tuple)\n",
    "\n",
    "\n",
    "# To convert a tuple value into its list form, you can use the list() function.\n",
    "my_tuple = (1, 2, 3, 4)\n",
    "my_list = list(my_tuple)\n",
    "\n",
    "print(my_list)\n",
    "\n"
   ]
  },
  {
   "cell_type": "code",
   "execution_count": 16,
   "id": "a439a74b",
   "metadata": {},
   "outputs": [
    {
     "name": "stdout",
     "output_type": "stream",
     "text": [
      "[1, 2, 3, 4]\n"
     ]
    }
   ],
   "source": [
    "# 16. Variables that \"contains\" list values are not necessarily lists themselves. Instead, what do they contain?\n",
    "\n",
    "# Variables that \"contain\" list values in Python are not actually storing the list itself. Instead, they store a reference\n",
    "# to the list.\n",
    "my_list = [1, 2, 3]\n",
    "another_list = my_list\n",
    "\n",
    "my_list.append(4)\n",
    "print(another_list)\n"
   ]
  },
  {
   "cell_type": "code",
   "execution_count": 17,
   "id": "908abbd5",
   "metadata": {},
   "outputs": [
    {
     "name": "stdout",
     "output_type": "stream",
     "text": [
      "[1, [2, 3], 4]\n",
      "[1, [2, 3], 4]\n",
      "[1, [2, 3], 4]\n",
      "[1, [5, 3], 4]\n"
     ]
    }
   ],
   "source": [
    "# 17. How do you distinguish between copy.copy() and copy.deepcopy()?\n",
    "\n",
    "# The copy.copy() and copy.deepcopy() functions are used in Python's copy module to create copies of objects,\n",
    "# such as lists, dictionaries, or custom objects.\n",
    "\n",
    "# copy.copy()\n",
    "import copy\n",
    "\n",
    "original_list = [1, [2, 3], 4]\n",
    "copied_list = copy.copy(original_list)\n",
    "\n",
    "# Modifying a nested object in the copied list\n",
    "# copied_list[1][0] = 5\n",
    "\n",
    "print(original_list)  # [1, [5, 3], 4]\n",
    "print(copied_list)    # [1, [5, 3], 4]\n",
    "\n",
    "# copy.deepcop\n",
    "import copy\n",
    "\n",
    "original_list = [1, [2, 3], 4]\n",
    "deep_copied_list = copy.deepcopy(original_list)\n",
    "\n",
    "# Modifying a nested object in the deep copied list\n",
    "deep_copied_list[1][0] = 5\n",
    "\n",
    "print(original_list)      # [1, [2, 3], 4]\n",
    "print(deep_copied_list)   # [1, [5, 3], 4]\n"
   ]
  }
 ],
 "metadata": {
  "kernelspec": {
   "display_name": "Python 3 (ipykernel)",
   "language": "python",
   "name": "python3"
  },
  "language_info": {
   "codemirror_mode": {
    "name": "ipython",
    "version": 3
   },
   "file_extension": ".py",
   "mimetype": "text/x-python",
   "name": "python",
   "nbconvert_exporter": "python",
   "pygments_lexer": "ipython3",
   "version": "3.10.9"
  }
 },
 "nbformat": 4,
 "nbformat_minor": 5
}
