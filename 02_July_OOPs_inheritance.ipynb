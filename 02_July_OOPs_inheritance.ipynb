{
 "cells": [
  {
   "cell_type": "code",
   "execution_count": 2,
   "id": "f6e52935",
   "metadata": {},
   "outputs": [
    {
     "name": "stdout",
     "output_type": "stream",
     "text": [
      "4\n"
     ]
    }
   ],
   "source": [
    "# 1. Explain what inheritance is in object-oriented programming and why it is used.\n",
    "\n",
    "# Inheritance is a fundamental concept in object-oriented programming (OOP) that allows a class to inherit properties\n",
    "# and behaviors from another class. It enables code reuse and the creation of a hierarchical relationship between classes.\n",
    "\n",
    "class Shape:\n",
    "    def __init__(self,color):\n",
    "        self.color=color\n",
    "    def calculate_area(self):\n",
    "        pass\n",
    "\n",
    "class Square(Shape):#this is called inheritance which inherits color property from its parent class.\n",
    "    def __init__(self,color,length,width):\n",
    "        super().__init__(color)\n",
    "        self.length=length\n",
    "        self.width=width\n",
    "    def calculate_area(self):\n",
    "        print(self.length*self.width)\n",
    "        \n",
    "shape1=Square(\"Red\",2,2)\n",
    "shape1.calculate_area()"
   ]
  },
  {
   "cell_type": "code",
   "execution_count": 4,
   "id": "56b29190",
   "metadata": {},
   "outputs": [
    {
     "name": "stdout",
     "output_type": "stream",
     "text": [
      "4\n",
      "Circle is being drawn.\n",
      "Filling with Red color.\n"
     ]
    }
   ],
   "source": [
    "# 2. Discuss the concept of single inheritance and multiple inheritance, highlighting their differences and advantages.\n",
    "\n",
    "# Single inheritance refers to the concept where a class inherits properties and behaviors from a single base class.\n",
    "# In other words, a derived class can have only one direct superclass.\n",
    "# Single inheritance offers a straightforward and simple inheritance hierarchy, as each class has only one direct\n",
    "# superclass.\n",
    "\n",
    "# Multiple inheritance allows a class to inherit properties and behaviors from multiple base classes.\n",
    "# This means that a derived class can have more than one direct superclass. \n",
    "# Multiple inheritance facilitates code reuse by allowing a class to inherit from multiple classes, each providing a\n",
    "# different set of features. This promotes modular and reusable code.\n",
    "\n",
    "# This is the example of single inheritance\n",
    "class Shape:\n",
    "    def __init__(self,color):\n",
    "        self.color=color\n",
    "    def calculate_area(self):\n",
    "        pass\n",
    "\n",
    "class Square(Shape):#this is called inheritance which inherits color property from its parent class.\n",
    "    def __init__(self,color,length,width):\n",
    "        super().__init__(color)\n",
    "        self.length=length\n",
    "        self.width=width\n",
    "    def calculate_area(self):\n",
    "        print(self.length*self.width)\n",
    "        \n",
    "shape1=Square(\"Red\",2,2)\n",
    "shape1.calculate_area()\n",
    "\n",
    "\n",
    "# This is the example of multiple inheritance\n",
    "\n",
    "class Shape:\n",
    "    def __init__(self, name):\n",
    "        self.name = name\n",
    "\n",
    "    def draw(self):\n",
    "        print(f\"{self.name} is being drawn.\")\n",
    "\n",
    "\n",
    "class Color:\n",
    "    def __init__(self, color):\n",
    "        self.color = color\n",
    "\n",
    "    def fill(self):\n",
    "        print(f\"Filling with {self.color} color.\")\n",
    "\n",
    "\n",
    "class ColoredShape(Shape, Color):\n",
    "    def __init__(self, name, color):\n",
    "        Shape.__init__(self, name)\n",
    "        Color.__init__(self, color)\n",
    "\n",
    "\n",
    "# Creating an instance of the ColoredShape class\n",
    "colored_shape = ColoredShape(\"Circle\", \"Red\")\n",
    "colored_shape.draw()  # Output: Circle is being drawn.\n",
    "colored_shape.fill()  # Output: Filling with Red color.\n",
    "\n"
   ]
  },
  {
   "cell_type": "code",
   "execution_count": 3,
   "id": "26e6365c",
   "metadata": {},
   "outputs": [
    {
     "name": "stdout",
     "output_type": "stream",
     "text": [
      "4\n"
     ]
    }
   ],
   "source": [
    "# 3. Explain the terms \"base class\" and \"derived class\" in the context of inheritance.\n",
    "\n",
    "# A base class, also known as a superclass or parent class, is a class that serves as the foundation or starting point\n",
    "# for other classes. It contains common attributes, methods, and behavior that can be shared by multiple derived classes.\n",
    "\n",
    "# A derived class, also known as a subclass or child class, is a class that inherits properties and behaviors from a base\n",
    "# class. It extends or specializes the functionality of the base class by adding new features, overriding existing methods,\n",
    "# or introducing additional attributes. \n",
    "\n",
    "class Shape: # this is the base class or parent class\n",
    "    def __init__(self,color):\n",
    "        self.color=color\n",
    "    def calculate_area(self):\n",
    "        pass\n",
    "\n",
    "class Square(Shape): # this is the derived or child class\n",
    "    def __init__(self,color,length,width):\n",
    "        super().__init__(color)\n",
    "        self.length=length\n",
    "        self.width=width\n",
    "    def calculate_area(self):\n",
    "        print(self.length*self.width)\n",
    "        \n",
    "shape1=Square(\"Red\",2,2)\n",
    "shape1.calculate_area()"
   ]
  },
  {
   "cell_type": "code",
   "execution_count": 5,
   "id": "46d771ed",
   "metadata": {},
   "outputs": [],
   "source": [
    "# 4. What is the significance of the \"protected\" access modifier in inheritance? How does it differ from \"private\" and\n",
    "# \"public\" modifiers?\n",
    "\n",
    "# In object-oriented programming, access modifiers define the level of visibility and accessibility of class members\n",
    "# (variables and methods) within the class and its subclasses. The \"protected\" access modifier has a specific\n",
    "# significance in the context of inheritance, and it differs from the \"private\" and \"public\" modifiers \n",
    "\n",
    "# Private members are only accessible within the class that declares them. They cannot be accessed from outside\n",
    "# the class or its subclasses.\n",
    "# Protected members are accessible within the class that declares them, as well as by subclasses derived from that class.\n",
    "# Public members are accessible from anywhere, including outside the class and its subclasses."
   ]
  },
  {
   "cell_type": "code",
   "execution_count": 7,
   "id": "11e12a58",
   "metadata": {},
   "outputs": [
    {
     "name": "stdout",
     "output_type": "stream",
     "text": [
      "Vehicle is starting.\n",
      "Toyota Fortuner is starting.\n"
     ]
    }
   ],
   "source": [
    "# 5. What is the purpose of the \"super\" keyword in inheritance? Provide an example.\n",
    "\n",
    "# The \"super\" keyword is used in inheritance to refer to the superclass or base class from within a derived class.\n",
    "# It allows access to the superclass's members (methods, variables, and constructors) and enables overriding and extending\n",
    "# their functionality in the derived class.\n",
    "class Vehicle:\n",
    "    def __init__(self, brand):\n",
    "        self.brand = brand\n",
    "\n",
    "    def start(self):\n",
    "        print(\"Vehicle is starting.\")\n",
    "\n",
    "\n",
    "class Car(Vehicle):\n",
    "    def __init__(self, brand, model):\n",
    "        super().__init__(brand)  # Calling the base class constructor\n",
    "        self.model = model\n",
    "\n",
    "    def start(self):\n",
    "        super().start()  # Calling the overridden method in the base class\n",
    "        print(f\"{self.brand} {self.model} is starting.\")\n",
    "\n",
    "\n",
    "# Creating an instance of the Car class\n",
    "car = Car(\"Toyota\", \"Fortuner\")\n",
    "car.start()\n"
   ]
  },
  {
   "cell_type": "code",
   "execution_count": 9,
   "id": "9824b1e9",
   "metadata": {},
   "outputs": [
    {
     "name": "stdout",
     "output_type": "stream",
     "text": [
      "Vehicle is starting.\n",
      "Mahindra Scorpio is starting.\n",
      "Vehicle is stopping.\n",
      "Mahindra Scorpio is stopping.\n",
      "Car details: Mahindra Scorpio, 2022, Fuel Type: Petrol\n"
     ]
    }
   ],
   "source": [
    "# 6. Create a base class called \"Vehicle\" with attributes like \"make\", \"model\", and \"year\".\n",
    "# Then, create a derived class called \"Car\" that inherits from \"Vehicle\" and adds an\n",
    "# attribute called \"fuel_type\". Implement appropriate methods in both classes.\n",
    "\n",
    "class Vehicle:\n",
    "    def __init__(self, make, model, year):\n",
    "        self.make = make\n",
    "        self.model = model\n",
    "        self.year = year\n",
    "\n",
    "    def start(self):\n",
    "        print(\"Vehicle is starting.\")\n",
    "\n",
    "    def stop(self):\n",
    "        print(\"Vehicle is stopping.\")\n",
    "\n",
    "\n",
    "class Car(Vehicle):\n",
    "    def __init__(self, make, model, year, fuel_type):\n",
    "        super().__init__(make, model, year)\n",
    "        self.fuel_type = fuel_type\n",
    "\n",
    "    def start(self):\n",
    "        super().start()\n",
    "        print(f\"{self.make} {self.model} is starting.\")\n",
    "\n",
    "    def stop(self):\n",
    "        super().stop()\n",
    "        print(f\"{self.make} {self.model} is stopping.\")\n",
    "\n",
    "\n",
    "# Creating an instance of the Car class\n",
    "car = Car(\"Mahindra\", \"Scorpio\", 2022, \"Petrol\")\n",
    "car.start()\n",
    "car.stop()\n",
    "print(f\"Car details: {car.make} {car.model}, {car.year}, Fuel Type: {car.fuel_type}\")"
   ]
  },
  {
   "cell_type": "code",
   "execution_count": 13,
   "id": "5a33ceb5",
   "metadata": {},
   "outputs": [
    {
     "name": "stdout",
     "output_type": "stream",
     "text": [
      "Name of Employee is Gajendra, Salary is 20000\n",
      "Progamming language is : Python \n",
      "Name of Employee is Ravindhar, Salary is 1500000\n",
      "Department name : Modern Workplace\n"
     ]
    }
   ],
   "source": [
    "# 7. Create a base class called \"Employee\" with attributes like \"name\" and \"salary.\"\n",
    "# Derive two classes, \"Manager\" and \"Developer,\" from \"Employee.\" Add an additional\n",
    "# attribute called \"department\" for the \"Manager\" class and \"programming_language\"\n",
    "# for the \"Developer\" class.\n",
    "\n",
    "class Employee:\n",
    "    def __init__(self,name,salary):\n",
    "        self.name=name\n",
    "        self.salary=salary\n",
    "    def show_details(self):\n",
    "        print(f\"Name of Employee is {self.name}, Salary is {self.salary}\")\n",
    "    \n",
    "class Manager(Employee):\n",
    "    def __init__(self,name,salary,department):\n",
    "        super().__init__(name,salary)\n",
    "        self.department=department\n",
    "        \n",
    "    def show_details(self):\n",
    "        super().show_details()\n",
    "        print(f\"Department name : {self.department}\")\n",
    "        \n",
    "class Developer(Employee):\n",
    "    def __init__(self,name,salary,programming_language):\n",
    "        super().__init__(name,salary)\n",
    "        self.programming_language=programming_language\n",
    "    def show_details(self):\n",
    "        super().show_details()\n",
    "        print(f\"Progamming language is : {self.programming_language} \")\n",
    "        \n",
    "d1=Developer(\"Gajendra\",20000,\"Python\")\n",
    "m1=Manager(\"Ravindhar\",1500000,\"Modern Workplace\")\n",
    "d1.show_details()\n",
    "m1.show_details()"
   ]
  },
  {
   "cell_type": "code",
   "execution_count": 14,
   "id": "e4056e70",
   "metadata": {},
   "outputs": [
    {
     "name": "stdout",
     "output_type": "stream",
     "text": [
      "Rectangle Colour: Blue\n",
      "Rectangle Border Width: 2\n",
      "Rectangle Length: 5\n",
      "Rectangle Width: 3\n",
      "Circle Colour: Red\n",
      "Circle Border Width: 1\n",
      "Circle Radius: 4\n"
     ]
    }
   ],
   "source": [
    "# 8. Design a base class called \"Shape\" with attributes like \"colour\" and \"border_width.\"\n",
    "# Create derived classes, \"Rectangle\" and \"Circle,\" that inherit from \"Shape\" and add\n",
    "# specific attributes like \"length\" and \"width\" for the \"Rectangle\" class and \"radius\" for\n",
    "# the \"Circle\" class.\n",
    "\n",
    "class Shape:\n",
    "    def __init__(self, colour, border_width):\n",
    "        self.colour = colour\n",
    "        self.border_width = border_width\n",
    "\n",
    "\n",
    "class Rectangle(Shape):\n",
    "    def __init__(self, colour, border_width, length, width):\n",
    "        super().__init__(colour, border_width)\n",
    "        self.length = length\n",
    "        self.width = width\n",
    "\n",
    "\n",
    "class Circle(Shape):\n",
    "    def __init__(self, colour, border_width, radius):\n",
    "        super().__init__(colour, border_width)\n",
    "        self.radius = radius\n",
    "\n",
    "\n",
    "# Creating instances of the Rectangle and Circle classes\n",
    "rectangle = Rectangle(\"Blue\", 2, 5, 3)\n",
    "circle = Circle(\"Red\", 1, 4)\n",
    "\n",
    "# Accessing attributes of the Rectangle instance\n",
    "print(f\"Rectangle Colour: {rectangle.colour}\")\n",
    "print(f\"Rectangle Border Width: {rectangle.border_width}\")\n",
    "print(f\"Rectangle Length: {rectangle.length}\")\n",
    "print(f\"Rectangle Width: {rectangle.width}\")\n",
    "\n",
    "# Accessing attributes of the Circle instance\n",
    "print(f\"Circle Colour: {circle.colour}\")\n",
    "print(f\"Circle Border Width: {circle.border_width}\")\n",
    "print(f\"Circle Radius: {circle.radius}\")\n"
   ]
  },
  {
   "cell_type": "code",
   "execution_count": 15,
   "id": "f5bbf15b",
   "metadata": {},
   "outputs": [
    {
     "name": "stdout",
     "output_type": "stream",
     "text": [
      "Phone Brand: Apple\n",
      "Phone Model: iPhone 12\n",
      "Phone Screen Size: 6.1 inches\n",
      "Tablet Brand: Samsung\n",
      "Tablet Model: Galaxy Tab S7\n",
      "Tablet Battery Capacity: 8000 mAh\n"
     ]
    }
   ],
   "source": [
    "# 9. Create a base class called \"Device\" with attributes like \"brand\" and \"model.\" Derive\n",
    "# two classes, \"Phone\" and \"Tablet,\" from \"Device.\" Add specific attributes like\n",
    "# \"screen_size\" for the \"Phone\" class and \"battery_capacity\" for the \"Tablet\" class.\n",
    "\n",
    "class Device:\n",
    "    def __init__(self, brand, model):\n",
    "        self.brand = brand\n",
    "        self.model = model\n",
    "\n",
    "\n",
    "class Phone(Device):\n",
    "    def __init__(self, brand, model, screen_size):\n",
    "        super().__init__(brand, model)\n",
    "        self.screen_size = screen_size\n",
    "\n",
    "\n",
    "class Tablet(Device):\n",
    "    def __init__(self, brand, model, battery_capacity):\n",
    "        super().__init__(brand, model)\n",
    "        self.battery_capacity = battery_capacity\n",
    "\n",
    "\n",
    "# Creating instances of the Phone and Tablet classes\n",
    "phone = Phone(\"Apple\", \"iPhone 12\", 6.1)\n",
    "tablet = Tablet(\"Samsung\", \"Galaxy Tab S7\", 8000)\n",
    "\n",
    "# Accessing attributes of the Phone instance\n",
    "print(f\"Phone Brand: {phone.brand}\")\n",
    "print(f\"Phone Model: {phone.model}\")\n",
    "print(f\"Phone Screen Size: {phone.screen_size} inches\")\n",
    "\n",
    "# Accessing attributes of the Tablet instance\n",
    "print(f\"Tablet Brand: {tablet.brand}\")\n",
    "print(f\"Tablet Model: {tablet.model}\")\n",
    "print(f\"Tablet Battery Capacity: {tablet.battery_capacity} mAh\")\n"
   ]
  },
  {
   "cell_type": "code",
   "execution_count": 17,
   "id": "567e62d9",
   "metadata": {},
   "outputs": [
    {
     "name": "stdout",
     "output_type": "stream",
     "text": [
      "Savings Account Balance after Interest Calculation: 5125.0\n",
      "Checking Account Balance after Fee Deduction: 980\n"
     ]
    }
   ],
   "source": [
    "# 10. Create a base class called \"BankAccount\" with attributes like \"account_number\" and\n",
    "# \"balance.\" Derive two classes, \"SavingsAccount\" and \"CheckingAccount,\" from\n",
    "# \"BankAccount.\" Add specific methods like \"calculate_interest\" for the\n",
    "# \"SavingsAccount\" class and \"deduct_fees\" for the \"CheckingAccount\" class.\n",
    "\n",
    "class BankAccount:\n",
    "    def __init__(self, account_number, balance):\n",
    "        self.account_number = account_number\n",
    "        self.balance = balance\n",
    "\n",
    "\n",
    "class SavingsAccount(BankAccount):\n",
    "    def __init__(self, account_number, balance):\n",
    "        super().__init__(account_number, balance)\n",
    "\n",
    "    def calculate_interest(self, interest_rate):\n",
    "        interest = self.balance * (interest_rate / 100)\n",
    "        self.balance += interest\n",
    "\n",
    "\n",
    "class CheckingAccount(BankAccount):\n",
    "    def __init__(self, account_number, balance):\n",
    "        super().__init__(account_number, balance)\n",
    "\n",
    "    def deduct_fees(self, fee_amount):\n",
    "        self.balance -= fee_amount\n",
    "\n",
    "\n",
    "# Creating instances of the SavingsAccount and CheckingAccount classes\n",
    "savings_account = SavingsAccount(\"123456789\", 5000)\n",
    "checking_account = CheckingAccount(\"987654321\", 1000)\n",
    "\n",
    "# Calculating interest for the SavingsAccount\n",
    "savings_account.calculate_interest(2.5)\n",
    "print(f\"Savings Account Balance after Interest Calculation: {savings_account.balance}\")\n",
    "\n",
    "# Deducting fees from the CheckingAccount\n",
    "checking_account.deduct_fees(20)\n",
    "print(f\"Checking Account Balance after Fee Deduction: {checking_account.balance}\")\n"
   ]
  }
 ],
 "metadata": {
  "kernelspec": {
   "display_name": "Python 3 (ipykernel)",
   "language": "python",
   "name": "python3"
  },
  "language_info": {
   "codemirror_mode": {
    "name": "ipython",
    "version": 3
   },
   "file_extension": ".py",
   "mimetype": "text/x-python",
   "name": "python",
   "nbconvert_exporter": "python",
   "pygments_lexer": "ipython3",
   "version": "3.10.9"
  }
 },
 "nbformat": 4,
 "nbformat_minor": 5
}
