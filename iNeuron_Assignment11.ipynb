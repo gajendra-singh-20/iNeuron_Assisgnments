{
 "cells": [
  {
   "cell_type": "code",
   "execution_count": 1,
   "id": "0b6d2da4",
   "metadata": {},
   "outputs": [
    {
     "name": "stdout",
     "output_type": "stream",
     "text": [
      "Enter the first number: ]\n",
      "Error: Invalid input. Please enter numbers.\n"
     ]
    }
   ],
   "source": [
    "# 1. What is the role of the 'else' block in a try-except statement? Provide an example scenario where it would be useful.\n",
    "\n",
    "# he else block in a try-except statement is used to specify a block of code that should be executed if no exceptions are\n",
    "# raised in the corresponding try block\n",
    "try:\n",
    "    num1 = int(input(\"Enter the first number: \"))\n",
    "    num2 = int(input(\"Enter the second number: \"))\n",
    "    result = num1 / num2\n",
    "except ValueError:\n",
    "    print(\"Error: Invalid input. Please enter numbers.\")\n",
    "except ZeroDivisionError:\n",
    "    print(\"Error: Cannot divide by zero.\")\n",
    "else:\n",
    "    print(\"Division successful.\")\n",
    "    print(\"Result:\", result)\n"
   ]
  },
  {
   "cell_type": "code",
   "execution_count": 2,
   "id": "a9d717fd",
   "metadata": {},
   "outputs": [
    {
     "name": "stdout",
     "output_type": "stream",
     "text": [
      "Enter the first number: 3\n",
      "Enter the second number: 2\n",
      "Result: 1.5\n"
     ]
    }
   ],
   "source": [
    "# 2. Can a try-except block be nested inside another try-except block? Explain with an example.\n",
    "\n",
    "# Yes,\n",
    "\n",
    "try:\n",
    "    # Outer try block\n",
    "    num1 = int(input(\"Enter the first number: \"))\n",
    "    num2 = int(input(\"Enter the second number: \"))\n",
    "\n",
    "    try:\n",
    "        # Inner try block\n",
    "        result = num1 / num2\n",
    "        print(\"Result:\", result)\n",
    "    except ZeroDivisionError:\n",
    "        print(\"Error: Cannot divide by zero in inner try-except block.\")\n",
    "except ValueError:\n",
    "    print(\"Error: Invalid input. Please enter numbers in outer try-except block.\")\n"
   ]
  },
  {
   "cell_type": "code",
   "execution_count": 3,
   "id": "f83ff56c",
   "metadata": {},
   "outputs": [
    {
     "name": "stdout",
     "output_type": "stream",
     "text": [
      "Enter your age: 22\n",
      "Age is valid.\n"
     ]
    }
   ],
   "source": [
    "# 3. How can you create a custom exception class in Python? Provide an example that demonstrates its usage.\n",
    "\n",
    "class CustomError(Exception):\n",
    "    def __init__(self, message):\n",
    "        self.message = message\n",
    "\n",
    "    def __str__(self):\n",
    "        return self.message\n",
    "\n",
    "\n",
    "def validate_age(age):\n",
    "    if age < 0:\n",
    "        raise CustomError(\"Invalid age: Age cannot be negative.\")\n",
    "    elif age > 120:\n",
    "        raise CustomError(\"Invalid age: Age cannot exceed 120.\")\n",
    "\n",
    "\n",
    "try:\n",
    "    user_age = int(input(\"Enter your age: \"))\n",
    "    validate_age(user_age)\n",
    "    print(\"Age is valid.\")\n",
    "except CustomError as e:\n",
    "    print(\"Error:\", str(e))\n"
   ]
  },
  {
   "cell_type": "code",
   "execution_count": 4,
   "id": "0ec8e08f",
   "metadata": {},
   "outputs": [],
   "source": [
    "# 4. What are some common exceptions that are built-in to Python?\n",
    "\n",
    "# Python provides a set of built-in exceptions that cover a wide range of common error conditions. Some of the most\n",
    "# commonly used built-in exceptions in Python include:\n",
    "\n",
    "# Exception: The base class for all built-in exceptions. It can be used as a generic catch-all for exceptions.\n",
    "\n",
    "# SyntaxError: Raised when there is a syntax error in the code.\n",
    "\n",
    "# TypeError: Raised when an operation or function is applied to an object of inappropriate type.\n",
    "\n",
    "# ValueError: Raised when a function receives an argument of the correct type but with an invalid value.\n",
    "\n",
    "# NameError: Raised when a local or global name is not found."
   ]
  },
  {
   "cell_type": "code",
   "execution_count": 5,
   "id": "09186fa0",
   "metadata": {},
   "outputs": [],
   "source": [
    "# 5. What is logging in Python, and why is it important in software development?\n",
    "\n",
    "# Logging in Python refers to the process of recording events, messages, and other relevant information during the execution\n",
    "# of a program. \n",
    "# Logging is important in software development for several reasons:\n",
    "# Debugging and Troubleshooting,Monitoring and Auditing,Maintenance and Support,Security and Compliance,Historical Analysis"
   ]
  },
  {
   "cell_type": "code",
   "execution_count": 6,
   "id": "de2b2f1d",
   "metadata": {},
   "outputs": [],
   "source": [
    "# 6. Explain the purpose of log levels in Python logging and provide examples of when each log level would be appropriate.\n",
    "\n",
    "# In Python logging, log levels are used to categorize and prioritize log messages based on their severity or importance. \n",
    "# Debug\n",
    "# INFO\n",
    "# Warning\n",
    "# Error\n",
    "# Critical"
   ]
  },
  {
   "cell_type": "code",
   "execution_count": 7,
   "id": "2085e8e2",
   "metadata": {
    "scrolled": true
   },
   "outputs": [
    {
     "ename": "ValueError",
     "evalue": "Invalid format '{asctime} - {levelname} - {message}' for '%' style",
     "output_type": "error",
     "traceback": [
      "\u001b[1;31m---------------------------------------------------------------------------\u001b[0m",
      "\u001b[1;31mValueError\u001b[0m                                Traceback (most recent call last)",
      "Cell \u001b[1;32mIn[7], line 9\u001b[0m\n\u001b[0;32m      6\u001b[0m \u001b[38;5;28;01mimport\u001b[39;00m \u001b[38;5;21;01mlogging\u001b[39;00m\n\u001b[0;32m      8\u001b[0m \u001b[38;5;66;03m# Create a formatter with custom log message format\u001b[39;00m\n\u001b[1;32m----> 9\u001b[0m formatter \u001b[38;5;241m=\u001b[39m \u001b[43mlogging\u001b[49m\u001b[38;5;241;43m.\u001b[39;49m\u001b[43mFormatter\u001b[49m\u001b[43m(\u001b[49m\u001b[38;5;124;43m\"\u001b[39;49m\u001b[38;5;132;43;01m{asctime}\u001b[39;49;00m\u001b[38;5;124;43m - \u001b[39;49m\u001b[38;5;132;43;01m{levelname}\u001b[39;49;00m\u001b[38;5;124;43m - \u001b[39;49m\u001b[38;5;132;43;01m{message}\u001b[39;49;00m\u001b[38;5;124;43m\"\u001b[39;49m\u001b[43m,\u001b[49m\u001b[43m \u001b[49m\u001b[38;5;124;43m\"\u001b[39;49m\u001b[38;5;124;43m%\u001b[39;49m\u001b[38;5;124;43mY-\u001b[39;49m\u001b[38;5;124;43m%\u001b[39;49m\u001b[38;5;124;43mm-\u001b[39;49m\u001b[38;5;132;43;01m%d\u001b[39;49;00m\u001b[38;5;124;43m \u001b[39;49m\u001b[38;5;124;43m%\u001b[39;49m\u001b[38;5;124;43mH:\u001b[39;49m\u001b[38;5;124;43m%\u001b[39;49m\u001b[38;5;124;43mM:\u001b[39;49m\u001b[38;5;124;43m%\u001b[39;49m\u001b[38;5;124;43mS\u001b[39;49m\u001b[38;5;124;43m\"\u001b[39;49m\u001b[43m)\u001b[49m\n\u001b[0;32m     11\u001b[0m \u001b[38;5;66;03m# Create a file handler\u001b[39;00m\n\u001b[0;32m     12\u001b[0m handler \u001b[38;5;241m=\u001b[39m logging\u001b[38;5;241m.\u001b[39mFileHandler(\u001b[38;5;124m\"\u001b[39m\u001b[38;5;124mmylog.log\u001b[39m\u001b[38;5;124m\"\u001b[39m)\n",
      "File \u001b[1;32m~\\AppData\\Local\\anaconda3\\lib\\logging\\__init__.py:589\u001b[0m, in \u001b[0;36mFormatter.__init__\u001b[1;34m(self, fmt, datefmt, style, validate, defaults)\u001b[0m\n\u001b[0;32m    587\u001b[0m \u001b[38;5;28mself\u001b[39m\u001b[38;5;241m.\u001b[39m_style \u001b[38;5;241m=\u001b[39m _STYLES[style][\u001b[38;5;241m0\u001b[39m](fmt, defaults\u001b[38;5;241m=\u001b[39mdefaults)\n\u001b[0;32m    588\u001b[0m \u001b[38;5;28;01mif\u001b[39;00m validate:\n\u001b[1;32m--> 589\u001b[0m     \u001b[38;5;28;43mself\u001b[39;49m\u001b[38;5;241;43m.\u001b[39;49m\u001b[43m_style\u001b[49m\u001b[38;5;241;43m.\u001b[39;49m\u001b[43mvalidate\u001b[49m\u001b[43m(\u001b[49m\u001b[43m)\u001b[49m\n\u001b[0;32m    591\u001b[0m \u001b[38;5;28mself\u001b[39m\u001b[38;5;241m.\u001b[39m_fmt \u001b[38;5;241m=\u001b[39m \u001b[38;5;28mself\u001b[39m\u001b[38;5;241m.\u001b[39m_style\u001b[38;5;241m.\u001b[39m_fmt\n\u001b[0;32m    592\u001b[0m \u001b[38;5;28mself\u001b[39m\u001b[38;5;241m.\u001b[39mdatefmt \u001b[38;5;241m=\u001b[39m datefmt\n",
      "File \u001b[1;32m~\\AppData\\Local\\anaconda3\\lib\\logging\\__init__.py:429\u001b[0m, in \u001b[0;36mPercentStyle.validate\u001b[1;34m(self)\u001b[0m\n\u001b[0;32m    427\u001b[0m \u001b[38;5;124;03m\"\"\"Validate the input format, ensure it matches the correct style\"\"\"\u001b[39;00m\n\u001b[0;32m    428\u001b[0m \u001b[38;5;28;01mif\u001b[39;00m \u001b[38;5;129;01mnot\u001b[39;00m \u001b[38;5;28mself\u001b[39m\u001b[38;5;241m.\u001b[39mvalidation_pattern\u001b[38;5;241m.\u001b[39msearch(\u001b[38;5;28mself\u001b[39m\u001b[38;5;241m.\u001b[39m_fmt):\n\u001b[1;32m--> 429\u001b[0m     \u001b[38;5;28;01mraise\u001b[39;00m \u001b[38;5;167;01mValueError\u001b[39;00m(\u001b[38;5;124m\"\u001b[39m\u001b[38;5;124mInvalid format \u001b[39m\u001b[38;5;124m'\u001b[39m\u001b[38;5;132;01m%s\u001b[39;00m\u001b[38;5;124m'\u001b[39m\u001b[38;5;124m for \u001b[39m\u001b[38;5;124m'\u001b[39m\u001b[38;5;132;01m%s\u001b[39;00m\u001b[38;5;124m'\u001b[39m\u001b[38;5;124m style\u001b[39m\u001b[38;5;124m\"\u001b[39m \u001b[38;5;241m%\u001b[39m (\u001b[38;5;28mself\u001b[39m\u001b[38;5;241m.\u001b[39m_fmt, \u001b[38;5;28mself\u001b[39m\u001b[38;5;241m.\u001b[39mdefault_format[\u001b[38;5;241m0\u001b[39m]))\n",
      "\u001b[1;31mValueError\u001b[0m: Invalid format '{asctime} - {levelname} - {message}' for '%' style"
     ]
    }
   ],
   "source": [
    "# 7. What are log formatters in Python logging, and how can you customise the log message format using formatters?\n",
    "\n",
    "# In Python logging, log formatters are used to define the format of log messages generated by the logging system. \n",
    "# The logging module provides the Formatter class\n",
    "# To customize the log messages here are the steps\n",
    "import logging\n",
    "\n",
    "# Create a formatter with custom log message format\n",
    "formatter = logging.Formatter(\"{asctime} - {levelname} - {message}\", \"%Y-%m-%d %H:%M:%S\")\n",
    "\n",
    "# Create a file handler\n",
    "handler = logging.FileHandler(\"mylog.log\")\n",
    "\n",
    "# Set the formatter for the handler\n",
    "handler.setFormatter(formatter)\n",
    "\n",
    "# Create a logger and add the handler\n",
    "logger = logging.getLogger(\"mylogger\")\n",
    "logger.addHandler(handler)\n",
    "\n",
    "# Log some messages\n",
    "logger.debug(\"This is a debug message\")\n",
    "logger.info(\"This is an info message\")\n",
    "logger.error(\"This is an error message\")\n"
   ]
  },
  {
   "cell_type": "code",
   "execution_count": 8,
   "id": "66b313f8",
   "metadata": {
    "scrolled": true
   },
   "outputs": [
    {
     "ename": "ValueError",
     "evalue": "Invalid format '{asctime} - {name} - {levelname} - {message}' for '%' style",
     "output_type": "error",
     "traceback": [
      "\u001b[1;31m---------------------------------------------------------------------------\u001b[0m",
      "\u001b[1;31mValueError\u001b[0m                                Traceback (most recent call last)",
      "Cell \u001b[1;32mIn[8], line 6\u001b[0m\n\u001b[0;32m      3\u001b[0m \u001b[38;5;28;01mimport\u001b[39;00m \u001b[38;5;21;01mlogging\u001b[39;00m\n\u001b[0;32m      5\u001b[0m \u001b[38;5;66;03m# Create log formatter\u001b[39;00m\n\u001b[1;32m----> 6\u001b[0m formatter \u001b[38;5;241m=\u001b[39m \u001b[43mlogging\u001b[49m\u001b[38;5;241;43m.\u001b[39;49m\u001b[43mFormatter\u001b[49m\u001b[43m(\u001b[49m\u001b[38;5;124;43m\"\u001b[39;49m\u001b[38;5;132;43;01m{asctime}\u001b[39;49;00m\u001b[38;5;124;43m - \u001b[39;49m\u001b[38;5;132;43;01m{name}\u001b[39;49;00m\u001b[38;5;124;43m - \u001b[39;49m\u001b[38;5;132;43;01m{levelname}\u001b[39;49;00m\u001b[38;5;124;43m - \u001b[39;49m\u001b[38;5;132;43;01m{message}\u001b[39;49;00m\u001b[38;5;124;43m\"\u001b[39;49m\u001b[43m,\u001b[49m\u001b[43m \u001b[49m\u001b[38;5;124;43m\"\u001b[39;49m\u001b[38;5;124;43m%\u001b[39;49m\u001b[38;5;124;43mY-\u001b[39;49m\u001b[38;5;124;43m%\u001b[39;49m\u001b[38;5;124;43mm-\u001b[39;49m\u001b[38;5;132;43;01m%d\u001b[39;49;00m\u001b[38;5;124;43m \u001b[39;49m\u001b[38;5;124;43m%\u001b[39;49m\u001b[38;5;124;43mH:\u001b[39;49m\u001b[38;5;124;43m%\u001b[39;49m\u001b[38;5;124;43mM:\u001b[39;49m\u001b[38;5;124;43m%\u001b[39;49m\u001b[38;5;124;43mS\u001b[39;49m\u001b[38;5;124;43m\"\u001b[39;49m\u001b[43m)\u001b[49m\n\u001b[0;32m      8\u001b[0m \u001b[38;5;66;03m# Create console handler and set formatter\u001b[39;00m\n\u001b[0;32m      9\u001b[0m console_handler \u001b[38;5;241m=\u001b[39m logging\u001b[38;5;241m.\u001b[39mStreamHandler()\n",
      "File \u001b[1;32m~\\AppData\\Local\\anaconda3\\lib\\logging\\__init__.py:589\u001b[0m, in \u001b[0;36mFormatter.__init__\u001b[1;34m(self, fmt, datefmt, style, validate, defaults)\u001b[0m\n\u001b[0;32m    587\u001b[0m \u001b[38;5;28mself\u001b[39m\u001b[38;5;241m.\u001b[39m_style \u001b[38;5;241m=\u001b[39m _STYLES[style][\u001b[38;5;241m0\u001b[39m](fmt, defaults\u001b[38;5;241m=\u001b[39mdefaults)\n\u001b[0;32m    588\u001b[0m \u001b[38;5;28;01mif\u001b[39;00m validate:\n\u001b[1;32m--> 589\u001b[0m     \u001b[38;5;28;43mself\u001b[39;49m\u001b[38;5;241;43m.\u001b[39;49m\u001b[43m_style\u001b[49m\u001b[38;5;241;43m.\u001b[39;49m\u001b[43mvalidate\u001b[49m\u001b[43m(\u001b[49m\u001b[43m)\u001b[49m\n\u001b[0;32m    591\u001b[0m \u001b[38;5;28mself\u001b[39m\u001b[38;5;241m.\u001b[39m_fmt \u001b[38;5;241m=\u001b[39m \u001b[38;5;28mself\u001b[39m\u001b[38;5;241m.\u001b[39m_style\u001b[38;5;241m.\u001b[39m_fmt\n\u001b[0;32m    592\u001b[0m \u001b[38;5;28mself\u001b[39m\u001b[38;5;241m.\u001b[39mdatefmt \u001b[38;5;241m=\u001b[39m datefmt\n",
      "File \u001b[1;32m~\\AppData\\Local\\anaconda3\\lib\\logging\\__init__.py:429\u001b[0m, in \u001b[0;36mPercentStyle.validate\u001b[1;34m(self)\u001b[0m\n\u001b[0;32m    427\u001b[0m \u001b[38;5;124;03m\"\"\"Validate the input format, ensure it matches the correct style\"\"\"\u001b[39;00m\n\u001b[0;32m    428\u001b[0m \u001b[38;5;28;01mif\u001b[39;00m \u001b[38;5;129;01mnot\u001b[39;00m \u001b[38;5;28mself\u001b[39m\u001b[38;5;241m.\u001b[39mvalidation_pattern\u001b[38;5;241m.\u001b[39msearch(\u001b[38;5;28mself\u001b[39m\u001b[38;5;241m.\u001b[39m_fmt):\n\u001b[1;32m--> 429\u001b[0m     \u001b[38;5;28;01mraise\u001b[39;00m \u001b[38;5;167;01mValueError\u001b[39;00m(\u001b[38;5;124m\"\u001b[39m\u001b[38;5;124mInvalid format \u001b[39m\u001b[38;5;124m'\u001b[39m\u001b[38;5;132;01m%s\u001b[39;00m\u001b[38;5;124m'\u001b[39m\u001b[38;5;124m for \u001b[39m\u001b[38;5;124m'\u001b[39m\u001b[38;5;132;01m%s\u001b[39;00m\u001b[38;5;124m'\u001b[39m\u001b[38;5;124m style\u001b[39m\u001b[38;5;124m\"\u001b[39m \u001b[38;5;241m%\u001b[39m (\u001b[38;5;28mself\u001b[39m\u001b[38;5;241m.\u001b[39m_fmt, \u001b[38;5;28mself\u001b[39m\u001b[38;5;241m.\u001b[39mdefault_format[\u001b[38;5;241m0\u001b[39m]))\n",
      "\u001b[1;31mValueError\u001b[0m: Invalid format '{asctime} - {name} - {levelname} - {message}' for '%' style"
     ]
    }
   ],
   "source": [
    "# 8. How can you set up logging to capture log messages from multiple modules or classes in a Python application?\n",
    "\n",
    "import logging\n",
    "\n",
    "# Create log formatter\n",
    "formatter = logging.Formatter(\"{asctime} - {name} - {levelname} - {message}\", \"%Y-%m-%d %H:%M:%S\")\n",
    "\n",
    "# Create console handler and set formatter\n",
    "console_handler = logging.StreamHandler()\n",
    "console_handler.setFormatter(formatter)\n",
    "\n",
    "# Create file handler and set formatter\n",
    "file_handler = logging.FileHandler(\"myapp.log\")\n",
    "file_handler.setFormatter(formatter)\n",
    "\n",
    "# Create loggers for different modules or classes\n",
    "logger_module1 = logging.getLogger(\"module1\")\n",
    "logger_module2 = logging.getLogger(\"module2\")\n",
    "\n",
    "# Set log level for each logger\n",
    "logger_module1.setLevel(logging.DEBUG)\n",
    "logger_module2.setLevel(logging.INFO)\n",
    "\n",
    "# Add handlers to loggers\n",
    "logger_module1.addHandler(console_handler)\n",
    "logger_module1.addHandler(file_handler)\n",
    "\n",
    "logger_module2.addHandler(console_handler)\n",
    "logger_module2.addHandler(file_handler)\n",
    "\n",
    "# Log messages from different modules or classes\n",
    "logger_module1.debug(\"This is a debug message from module 1\")\n",
    "logger_module2.info(\"This is an info message from module 2\")\n"
   ]
  },
  {
   "cell_type": "code",
   "execution_count": 9,
   "id": "6c4813d3",
   "metadata": {},
   "outputs": [],
   "source": [
    "# 9. What is the difference between the logging and print statements in Python? When should you use logging over print\n",
    "# statements in a real-world application?\n",
    "\n",
    "# The logging and print statements in Python serve different purposes and are used in different contexts. Here are the main\n",
    "# differences between logging and print statements:\n",
    "\n",
    "# Output destination: The print statement outputs messages to the standard output (console) by default, whereas logging \n",
    "# allows you to direct log messages to different output destinations, such as the console, files, or other custom handlers.\n",
    "\n",
    "# Control over log levels: Logging provides different log levels (e.g., DEBUG, INFO, WARNING, ERROR, CRITICAL) to categorize\n",
    "# and prioritize log messages based on their severity. With print statements, you have no built-in mechanism for distinguishing\n",
    "# different levels of messages.\n",
    "\n",
    "# Flexibility and configurability: The logging module offers extensive configuration options. You can customize log message\n",
    "# formats, define multiple loggers for different parts of your application, set different log levels for each logger,\n",
    "# and direct log messages to different handlers or outputs. Print statements, on the other hand, have limited configuration \n",
    "# options."
   ]
  },
  {
   "cell_type": "code",
   "execution_count": 10,
   "id": "d42fec33",
   "metadata": {},
   "outputs": [],
   "source": [
    "# 10. Write a Python program that logs a message to a file named \"app.log\" with the\n",
    "# following requirements:\n",
    "# ● The log message should be \"Hello, World!\"\n",
    "# ● The log level should be set to \"INFO.\"\n",
    "# ● The log file should append new log entries without overwriting previous ones.\n",
    "\n",
    "import logging\n",
    "\n",
    "# Configure logging\n",
    "logging.basicConfig(filename='app.log', level=logging.INFO, filemode='a', format='%(asctime)s - %(levelname)s - %(message)s')\n",
    "\n",
    "# Log the message\n",
    "logging.info(\"Hello, World!\")\n"
   ]
  },
  {
   "cell_type": "code",
   "execution_count": 11,
   "id": "ec2673ac",
   "metadata": {},
   "outputs": [
    {
     "name": "stdout",
     "output_type": "stream",
     "text": [
      "Exception: ZeroDivisionError, Timestamp: 2023-07-01 14:54:09\n"
     ]
    }
   ],
   "source": [
    "# 11. Create a Python program that logs an error message to the console and a file named \"errors.log\" if an exception occurs\n",
    "# during the program's execution. The error message should include the exception type and a timestamp.\n",
    "\n",
    "import logging\n",
    "import datetime\n",
    "\n",
    "# Configure logging\n",
    "logging.basicConfig(filename='errors.log', level=logging.ERROR, format='%(asctime)s - %(levelname)s - %(message)s')\n",
    "\n",
    "try:\n",
    "    # Code that may raise an exception\n",
    "    result = 10 / 0  # Division by zero to trigger an exception\n",
    "except Exception as e:\n",
    "    # Log the error message\n",
    "    timestamp = datetime.datetime.now().strftime('%Y-%m-%d %H:%M:%S')\n",
    "    error_message = f\"Exception: {type(e).__name__}, Timestamp: {timestamp}\"\n",
    "    logging.error(error_message)\n",
    "\n",
    "    # Print the error message to the console\n",
    "    print(error_message)\n"
   ]
  }
 ],
 "metadata": {
  "kernelspec": {
   "display_name": "Python 3 (ipykernel)",
   "language": "python",
   "name": "python3"
  },
  "language_info": {
   "codemirror_mode": {
    "name": "ipython",
    "version": 3
   },
   "file_extension": ".py",
   "mimetype": "text/x-python",
   "name": "python",
   "nbconvert_exporter": "python",
   "pygments_lexer": "ipython3",
   "version": "3.10.9"
  }
 },
 "nbformat": 4,
 "nbformat_minor": 5
}
