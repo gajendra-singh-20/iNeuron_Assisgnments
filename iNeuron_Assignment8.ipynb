{
 "cells": [
  {
   "cell_type": "code",
   "execution_count": 3,
   "id": "d00d671e",
   "metadata": {},
   "outputs": [
    {
     "name": "stdout",
     "output_type": "stream",
     "text": [
      "5\n",
      "50\n"
     ]
    }
   ],
   "source": [
    "# 1. In Python, what is the difference between a built-in function and a user-defined function? Provide an example of each.\n",
    "\n",
    "\n",
    "\n",
    "# Built-in functions are those which are already there in the python and User-defined functions are the functions created by the\n",
    "# user\n",
    "\n",
    "\n",
    "# Eg of built-in function:\n",
    "\n",
    "arr=[1,2,3,4,5]\n",
    "print(len(arr)) #This len() is a built-in function\n",
    "\n",
    "\n",
    "# Eg of user-defined function:\n",
    "\n",
    "def multiply(a,b): #this is a user-defined function\n",
    "    return a*b\n",
    "\n",
    "mul=multiply(10,5)\n",
    "print(mul)\n"
   ]
  },
  {
   "cell_type": "code",
   "execution_count": 9,
   "id": "108c1792",
   "metadata": {},
   "outputs": [
    {
     "name": "stdout",
     "output_type": "stream",
     "text": [
      "Hi Gajendra your age is: 22\n",
      "Hi Gajendra your age is: 22\n"
     ]
    }
   ],
   "source": [
    "# 2. How can you pass arguments to a function in Python? Explain the difference between positional arguments and keyword \n",
    "# arguments.\n",
    "\n",
    "# We can pass the arguements to a function by adding those in the parenthesis () while calling the function.\n",
    "# Positional Arguement: Positional arguments are passed to a function based on their position or order. The function parameters\n",
    "# are assigned values in the same order as the arguments are passed. \n",
    "def your_info(name,age):\n",
    "    print(\"Hi \"+name+\" your age is:\",age)\n",
    "your_info(\"Gajendra\",22)\n",
    "\n",
    "# Keyword Arguements: Keyword arguments are passed to a function using the parameter name followed by the = symbol and the \n",
    "# value. \n",
    "def your_info(name,age):\n",
    "    print(\"Hi \"+name+\" your age is:\",age)\n",
    "your_info(age=22,name=\"Gajendra\")"
   ]
  },
  {
   "cell_type": "code",
   "execution_count": 10,
   "id": "fab39c18",
   "metadata": {},
   "outputs": [
    {
     "name": "stdout",
     "output_type": "stream",
     "text": [
      "Result 1: 5.0\n",
      "Error: Cannot divide by zero.\n",
      "Result 2: None\n"
     ]
    }
   ],
   "source": [
    "# What is the purpose of the return statement in a function? Can a function have multiple return statements? Explain with an\n",
    "# example.\n",
    "\n",
    "# The return statement in a function serves the purpose of specifying the value that the function should return when it is called.\n",
    "# A function can indeed have multiple return statements. The first encountered return statement will cause the function to exit\n",
    "# and return the corresponding value. \n",
    "def divide_numbers(a, b):\n",
    "    if b == 0:\n",
    "        print(\"Error: Cannot divide by zero.\")\n",
    "        return None  # Return None to indicate an error\n",
    "\n",
    "    result = a / b\n",
    "    return result  # Return the division result\n",
    "\n",
    "# Example 1: Valid division\n",
    "result1 = divide_numbers(10, 2)\n",
    "print(\"Result 1:\", result1)  # Output: Result 1: 5.0\n",
    "\n",
    "# Example 2: Division by zero (error)\n",
    "result2 = divide_numbers(20, 0)\n",
    "print(\"Result 2:\", result2)  # Output: Error: Cannot divide by zero. Result 2: None\n"
   ]
  },
  {
   "cell_type": "code",
   "execution_count": 11,
   "id": "0c70ae44",
   "metadata": {},
   "outputs": [
    {
     "name": "stdout",
     "output_type": "stream",
     "text": [
      "8\n",
      "8\n"
     ]
    }
   ],
   "source": [
    "# 4. What are lambda functions in Python? How are they different from regular functions? Provide an example where a lambda\n",
    "# function can be useful.\n",
    "\n",
    "#  lambda function is a small anonymous function that is defined without a name. It is also known as an \"anonymous function\"\n",
    "# because it doesn't require the def keyword to define it. Instead, lambda functions are created using the lambda keyword\n",
    "\n",
    "# Regular function\n",
    "def add_numbers(a, b):\n",
    "    return a + b\n",
    "\n",
    "result = add_numbers(5, 3)\n",
    "print(result)  # Output: 8\n",
    "\n",
    "# Equivalent lambda function\n",
    "add_lambda = lambda a, b: a + b\n",
    "\n",
    "result_lambda = add_lambda(5, 3)\n",
    "print(result_lambda)  # Output: 8\n"
   ]
  },
  {
   "cell_type": "code",
   "execution_count": 12,
   "id": "b03af354",
   "metadata": {
    "scrolled": true
   },
   "outputs": [
    {
     "name": "stdout",
     "output_type": "stream",
     "text": [
      "10\n"
     ]
    },
    {
     "ename": "NameError",
     "evalue": "name 'x' is not defined",
     "output_type": "error",
     "traceback": [
      "\u001b[1;31m---------------------------------------------------------------------------\u001b[0m",
      "\u001b[1;31mNameError\u001b[0m                                 Traceback (most recent call last)",
      "Cell \u001b[1;32mIn[12], line 10\u001b[0m\n\u001b[0;32m      7\u001b[0m     \u001b[38;5;28mprint\u001b[39m(x)\n\u001b[0;32m      9\u001b[0m my_function()  \u001b[38;5;66;03m# Output: 10\u001b[39;00m\n\u001b[1;32m---> 10\u001b[0m \u001b[38;5;28mprint\u001b[39m(\u001b[43mx\u001b[49m)  \u001b[38;5;66;03m# Error: NameError: name 'x' is not defined\u001b[39;00m\n\u001b[0;32m     13\u001b[0m \u001b[38;5;66;03m# Global Scope: Variables defined outside any function, at the top level of the code, have global scope. Global variables\u001b[39;00m\n\u001b[0;32m     14\u001b[0m \u001b[38;5;66;03m# can be accessed and modified from any part of the program.\u001b[39;00m\n\u001b[0;32m     15\u001b[0m x \u001b[38;5;241m=\u001b[39m \u001b[38;5;241m10\u001b[39m  \u001b[38;5;66;03m# Global variable\u001b[39;00m\n",
      "\u001b[1;31mNameError\u001b[0m: name 'x' is not defined"
     ]
    }
   ],
   "source": [
    "# 5. How does the concept of \"scope\" apply to functions in Python? Explain the difference between local scope and global scope.\n",
    "\n",
    "# Scope refers to the region of a program where a variable or a name is recognized and can be accessed. \n",
    "# Local Scope: Variables defined within a function have local scope, which means they are only accessible within that function.\n",
    "def my_function():\n",
    "    x = 10  # Local variable\n",
    "    print(x)\n",
    "\n",
    "my_function()  # Output: 10\n",
    "print(x)  # Error: NameError: name 'x' is not defined\n",
    "\n",
    "\n",
    "# Global Scope: Variables defined outside any function, at the top level of the code, have global scope. Global variables\n",
    "# can be accessed and modified from any part of the program.\n",
    "x = 10  # Global variable\n",
    "\n",
    "def my_function():\n",
    "    print(x)\n",
    "\n",
    "my_function()  # Output: 10\n",
    "print(x)  # Output: 10\n"
   ]
  },
  {
   "cell_type": "code",
   "execution_count": 13,
   "id": "8fa11c73",
   "metadata": {},
   "outputs": [
    {
     "name": "stdout",
     "output_type": "stream",
     "text": [
      "Alice\n",
      "25\n",
      "alice@example.com\n",
      "Alice\n",
      "25\n",
      "alice@example.com\n"
     ]
    }
   ],
   "source": [
    "# 6. How can you use the \"return\" statement in a Python function to return multiple values?\n",
    "\n",
    "# return statement in a function can be used to return multiple values by separating them with commas. The values are returned \n",
    "# as a tuple\n",
    "def get_user_info():\n",
    "    name = \"Alice\"\n",
    "    age = 25\n",
    "    email = \"alice@example.com\"\n",
    "    return name, age, email\n",
    "\n",
    "# Assigning the returned values to multiple variables\n",
    "user_name, user_age, user_email = get_user_info()\n",
    "print(user_name)   # Output: Alice\n",
    "print(user_age)    # Output: 25\n",
    "print(user_email)  # Output: alice@example.com\n",
    "\n",
    "# Accessing the returned values using indexing\n",
    "user_info = get_user_info()\n",
    "print(user_info[0])  # Output: Alice\n",
    "print(user_info[1])  # Output: 25\n",
    "print(user_info[2])  # Output: alice@example.com\n"
   ]
  },
  {
   "cell_type": "code",
   "execution_count": 14,
   "id": "74cc53e5",
   "metadata": {},
   "outputs": [
    {
     "name": "stdout",
     "output_type": "stream",
     "text": [
      "[5, 6, 7, 4]\n"
     ]
    }
   ],
   "source": [
    "# 7. What is the difference between the \"pass by value\" and \"pass by reference\" concepts when it comes to function arguments\n",
    "# in Python?\n",
    "\n",
    "#  \"pass by value\" and \"pass by reference\" are often used to describe how function arguments are handled.\n",
    "\n",
    "# Pass by Value: In pass by value, a copy of the value is made and passed to the function. Any changes made to the parameter \n",
    "# within the function do not affect the original value.\n",
    "# Pass by Reference: In pass by reference, a reference or a pointer to the original value is passed to the function. \n",
    "# This means that changes made to the parameter within the function will affect the original value.\n",
    "def modify_list(lst):\n",
    "    lst.append(4)\n",
    "    lst = [1, 2, 3]\n",
    "\n",
    "my_list = [5, 6, 7]\n",
    "modify_list(my_list)\n",
    "print(my_list)  # Output: [5, 6, 7, 4]\n"
   ]
  },
  {
   "cell_type": "code",
   "execution_count": 15,
   "id": "cb3a510b",
   "metadata": {},
   "outputs": [
    {
     "name": "stdout",
     "output_type": "stream",
     "text": [
      "Logarithmic result: 1.6094379124341003\n",
      "Exponential result: 148.4131591025766\n",
      "Power result: 32.0\n",
      "Square root result: 2.23606797749979\n"
     ]
    }
   ],
   "source": [
    "# 8. Create a function that can intake integer or decimal value and do following operations:\n",
    "# a. Logarithmic function (log x)\n",
    "# b. Exponential function (exp(x))\n",
    "# c. Power function with base 2 (2x)\n",
    "# d. Square root\n",
    "\n",
    "import math\n",
    "\n",
    "def perform_operations(x):\n",
    "    logarithmic_result = math.log(x)\n",
    "    exponential_result = math.exp(x)\n",
    "    power_result = math.pow(2, x)\n",
    "    square_root_result = math.sqrt(x)\n",
    "\n",
    "    return logarithmic_result, exponential_result, power_result, square_root_result\n",
    "\n",
    "# Test the function\n",
    "input_value = 5\n",
    "logarithmic, exponential, power, square_root = perform_operations(input_value)\n",
    "\n",
    "print(f\"Logarithmic result: {logarithmic}\")\n",
    "print(f\"Exponential result: {exponential}\")\n",
    "print(f\"Power result: {power}\")\n",
    "print(f\"Square root result: {square_root}\")\n"
   ]
  },
  {
   "cell_type": "code",
   "execution_count": 17,
   "id": "fb25c672",
   "metadata": {},
   "outputs": [
    {
     "name": "stdout",
     "output_type": "stream",
     "text": [
      "First Name: Gajendra\n",
      "Last Name: Singh\n"
     ]
    }
   ],
   "source": [
    "# 9. Create a function that takes a full name as an argument and returns first name and last name.\n",
    "\n",
    "def extract_first_last_name(full_name):\n",
    "    names = full_name.split()\n",
    "    first_name = names[0]\n",
    "    last_name = names[-1]\n",
    "    return first_name, last_name\n",
    "\n",
    "# Test the function\n",
    "full_name = \"Gajendra Singh\"\n",
    "first_name, last_name = extract_first_last_name(full_name)\n",
    "\n",
    "print(\"First Name:\", first_name)\n",
    "print(\"Last Name:\", last_name)\n"
   ]
  },
  {
   "cell_type": "code",
   "execution_count": null,
   "id": "d9bb5e29",
   "metadata": {},
   "outputs": [],
   "source": []
  }
 ],
 "metadata": {
  "kernelspec": {
   "display_name": "Python 3 (ipykernel)",
   "language": "python",
   "name": "python3"
  },
  "language_info": {
   "codemirror_mode": {
    "name": "ipython",
    "version": 3
   },
   "file_extension": ".py",
   "mimetype": "text/x-python",
   "name": "python",
   "nbconvert_exporter": "python",
   "pygments_lexer": "ipython3",
   "version": "3.10.9"
  }
 },
 "nbformat": 4,
 "nbformat_minor": 5
}
