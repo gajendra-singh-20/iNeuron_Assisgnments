{
 "cells": [
  {
   "cell_type": "code",
   "execution_count": 1,
   "id": "330b7ddf",
   "metadata": {},
   "outputs": [
    {
     "name": "stdout",
     "output_type": "stream",
     "text": [
      "Statement is true\n"
     ]
    }
   ],
   "source": [
    "# 1.What are the two values of the Boolean data type? How do you write them?\n",
    "\n",
    "# True and False are the two values of the boolean data type. We can write them inside a variable as well as in conditional\n",
    "# statements but as Python is a case sensitive language so we need to write it in correct format. For example- \n",
    "a=True\n",
    "b=False\n",
    "\n",
    "if(True):\n",
    "    print(\"Statement is true\")"
   ]
  },
  {
   "cell_type": "code",
   "execution_count": 2,
   "id": "6fab9e1c",
   "metadata": {},
   "outputs": [],
   "source": [
    "# 2. What are the three different types of Boolean operators?\n",
    "\n",
    "# Three different types of boolean operators are AND, OR, NOT "
   ]
  },
  {
   "cell_type": "code",
   "execution_count": 3,
   "id": "e2634cc9",
   "metadata": {},
   "outputs": [],
   "source": [
    "# 3. Make a list of each Boolean operator's truth tables (i.e. every possible combination of Boolean values for the operator\n",
    "# and what it evaluate ).\n",
    "\n",
    "# a. AND Operator (&&):\n",
    "    \n",
    "#     A   B\tA && B\n",
    "#     0   0     0\n",
    "#     0   1     0\n",
    "#     1   0     0\n",
    "#     1   1     1\n",
    "    \n",
    "# b. OR Operator (||):\n",
    "    \n",
    "#     A   B   A || B\n",
    "#     0   0    0\n",
    "#     0   1    1\n",
    "#     1   0    1\n",
    "#     1   1    1\n",
    "    \n",
    "# c. NOT Operator (!):\n",
    "    \n",
    "#     A    !A\n",
    "#     0     1\n",
    "#     1     0"
   ]
  },
  {
   "cell_type": "code",
   "execution_count": 4,
   "id": "4d9ce492",
   "metadata": {},
   "outputs": [
    {
     "data": {
      "text/plain": [
       "True"
      ]
     },
     "execution_count": 4,
     "metadata": {},
     "output_type": "execute_result"
    }
   ],
   "source": [
    "# 4. What are the values of the following expressions?\n",
    "\n",
    "(5>4)and(3==5) #It will give False\n",
    "not(5>4)       #It will give False\n",
    "(5>4)or(3==5) #It will give True\n",
    "not((5>4)or(3==5)) #It will give False\n",
    "(True and True)and(True==False) #It will give False\n",
    "(not False)or(not True) #It will give True\n"
   ]
  },
  {
   "cell_type": "code",
   "execution_count": 5,
   "id": "44a60e9e",
   "metadata": {},
   "outputs": [],
   "source": [
    "# 5. What are the six comparison operators?\n",
    "\n",
    "# six comparision operators are as follows\n",
    "\n",
    "# a. (<) less than\n",
    "# b. (<=) less than or equal to\n",
    "# c. (>) greater than\n",
    "# d. (>=) greater than or equal to\n",
    "# e. (==) equals to \n",
    "# f. (!=) not equals to "
   ]
  },
  {
   "cell_type": "code",
   "execution_count": 6,
   "id": "c14a1470",
   "metadata": {},
   "outputs": [
    {
     "name": "stdout",
     "output_type": "stream",
     "text": [
      "True\n"
     ]
    }
   ],
   "source": [
    "# 6. How do you tell the difference between the equal to and assignment operators?Describe a condition and when you would use one.\n",
    "\n",
    "# Equals to (=) is an assignment operator to assign a value to a variable.\n",
    "# Double equals to (==) is a comparision operator to compare the value of two variable.\n",
    "# here are the example:\n",
    "a=5 #here = is used to assign 5 to a\n",
    "b=5\n",
    "if a==b: #here we are comparing two variables\n",
    "    print(\"True\")\n",
    "else:print(\"False\")"
   ]
  },
  {
   "cell_type": "code",
   "execution_count": 7,
   "id": "c9a568d9",
   "metadata": {},
   "outputs": [
    {
     "name": "stdout",
     "output_type": "stream",
     "text": [
      "ham\n",
      "spam\n",
      "spam\n"
     ]
    }
   ],
   "source": [
    "# 7. Identify the three blocks in this code:\n",
    "\n",
    "spam = 0\n",
    "\n",
    "#first block\n",
    "if spam == 10:\n",
    "    print(\"eggs\")\n",
    "    \n",
    "# second block\n",
    "if spam > 5:\n",
    "    print(\"bacon\")\n",
    "    \n",
    "# third block\n",
    "else:\n",
    "    print(\"ham\")\n",
    "    print(\"spam\")\n",
    "    print(\"spam\")"
   ]
  },
  {
   "cell_type": "code",
   "execution_count": 8,
   "id": "7f36a484",
   "metadata": {},
   "outputs": [
    {
     "name": "stdout",
     "output_type": "stream",
     "text": [
      "Howdy\n"
     ]
    }
   ],
   "source": [
    "# 8. Write code that prints Hello if 1 is stored in spam, prints Howdy if 2 is stored in spam, and prints Greetings! if anything\n",
    "# else is stored in spam.\n",
    "\n",
    "spam =2\n",
    "if spam==1:\n",
    "    print(\"spam\")\n",
    "elif spam==2:\n",
    "    print(\"Howdy\")\n",
    "else:\n",
    "    print(\"Greetings!\")"
   ]
  },
  {
   "cell_type": "code",
   "execution_count": 9,
   "id": "b2784777",
   "metadata": {},
   "outputs": [],
   "source": [
    "# 9.If your programme is stuck in an endless loop, what keys you’ll press?\n",
    "\n",
    "# CTRL+C"
   ]
  },
  {
   "cell_type": "code",
   "execution_count": 10,
   "id": "5ec04991",
   "metadata": {},
   "outputs": [
    {
     "name": "stdout",
     "output_type": "stream",
     "text": [
      "0\n",
      "1\n",
      "2\n",
      "3\n",
      "4\n",
      "5\n",
      "0\n",
      "1\n",
      "3\n",
      "4\n",
      "5\n",
      "6\n",
      "7\n",
      "8\n",
      "9\n"
     ]
    }
   ],
   "source": [
    "# 10. How can you tell the difference between break and continue?\n",
    "# Break stops the process of loop.\n",
    "# Continue stops the current iteration\n",
    "\n",
    "\n",
    "# Break statement example\n",
    "for i in range(10): \n",
    "       # if i is equal to 6 \n",
    "       # break statement terminate the current working loop   \n",
    "       if i == 6: \n",
    "             break \n",
    "       else: \n",
    "              print (i)\n",
    "\n",
    "# Continue statement example.\n",
    "for i in range(10):\n",
    "    # if i is equal to 2 \n",
    "    # continue statement will skip and start executing next iteration \n",
    "    if i == 2: \n",
    "        continue\n",
    "    else:\n",
    "        print (i)"
   ]
  },
  {
   "cell_type": "code",
   "execution_count": 11,
   "id": "00a41df2",
   "metadata": {},
   "outputs": [
    {
     "name": "stdout",
     "output_type": "stream",
     "text": [
      "0\n",
      "1\n",
      "2\n",
      "3\n",
      "4\n",
      "5\n",
      "6\n",
      "7\n",
      "8\n",
      "9\n",
      "0\n",
      "1\n",
      "2\n",
      "3\n",
      "4\n",
      "5\n",
      "6\n",
      "7\n",
      "8\n",
      "9\n",
      "0\n",
      "1\n",
      "2\n",
      "3\n",
      "4\n",
      "5\n",
      "6\n",
      "7\n",
      "8\n",
      "9\n"
     ]
    }
   ],
   "source": [
    "# 11. In a for loop, what is the difference between range(10), range(0, 10), and range(0, 10, 1)?\n",
    "\n",
    "# # All 3 states the same looping condition\n",
    "for i in range(10):\n",
    "    print(i)\n",
    "    \n",
    "for i in range(0,10):#starts with 0 go till 10 excluding 10\n",
    "    print(i)\n",
    "    \n",
    "for i in range(0,10,1):#starts with 0 go till 10 excluding 10 with the jump of 1\n",
    "    print(i)"
   ]
  },
  {
   "cell_type": "code",
   "execution_count": 12,
   "id": "0b58c59b",
   "metadata": {
    "scrolled": true
   },
   "outputs": [
    {
     "name": "stdout",
     "output_type": "stream",
     "text": [
      "1\n",
      "2\n",
      "3\n",
      "4\n",
      "5\n",
      "6\n",
      "7\n",
      "8\n",
      "9\n",
      "10\n",
      "1\n",
      "2\n",
      "3\n",
      "4\n",
      "5\n",
      "6\n",
      "7\n",
      "8\n",
      "9\n",
      "10\n"
     ]
    }
   ],
   "source": [
    "# 12. Write a short program that prints the numbers 1 to 10 using a for loop. Then write an equivalent program that prints\n",
    "# the numbers 1 to 10 using a while loop.\n",
    "\n",
    "# for loop\n",
    "for i in range(10):\n",
    "    print(i+1)\n",
    "    \n",
    "# while loop\n",
    "i=1\n",
    "while(i<=10):\n",
    "    print(i)\n",
    "    i+=1"
   ]
  },
  {
   "cell_type": "code",
   "execution_count": 13,
   "id": "ad936dc5",
   "metadata": {},
   "outputs": [],
   "source": [
    "# 13. If you had a function named bacon() inside a module named spam, how would you call it after importing spam?\n",
    "\n",
    "# first import spam into the code than the function can be called with spam.bacon()"
   ]
  }
 ],
 "metadata": {
  "kernelspec": {
   "display_name": "Python 3 (ipykernel)",
   "language": "python",
   "name": "python3"
  },
  "language_info": {
   "codemirror_mode": {
    "name": "ipython",
    "version": 3
   },
   "file_extension": ".py",
   "mimetype": "text/x-python",
   "name": "python",
   "nbconvert_exporter": "python",
   "pygments_lexer": "ipython3",
   "version": "3.10.9"
  }
 },
 "nbformat": 4,
 "nbformat_minor": 5
}
