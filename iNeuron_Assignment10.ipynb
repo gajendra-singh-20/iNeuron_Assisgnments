{
 "cells": [
  {
   "cell_type": "code",
   "execution_count": 2,
   "id": "d7481b01",
   "metadata": {},
   "outputs": [
    {
     "name": "stdout",
     "output_type": "stream",
     "text": [
      "Enter a number: 12\n",
      "Enter another number: 0\n",
      "Error: Cannot divide by zero.\n"
     ]
    }
   ],
   "source": [
    "# 1. What is the role of try and exception block?\n",
    "\n",
    "# The role of the try and except blocks in Python is to handle exceptions or errors that may occur during the execution of code.\n",
    "try:\n",
    "    # Code block where an exception might occur\n",
    "    num1 = int(input(\"Enter a number: \"))\n",
    "    num2 = int(input(\"Enter another number: \"))\n",
    "    result = num1 / num2\n",
    "    print(\"Result:\", result)\n",
    "except ZeroDivisionError:\n",
    "    print(\"Error: Cannot divide by zero.\")\n",
    "except ValueError:\n",
    "    print(\"Error: Invalid input. Please enter numbers.\")\n"
   ]
  },
  {
   "cell_type": "code",
   "execution_count": 3,
   "id": "9260ab8a",
   "metadata": {
    "scrolled": true
   },
   "outputs": [
    {
     "ename": "IndentationError",
     "evalue": "expected an indented block after 'try' statement on line 3 (1949486468.py, line 6)",
     "output_type": "error",
     "traceback": [
      "\u001b[1;36m  Cell \u001b[1;32mIn[3], line 6\u001b[1;36m\u001b[0m\n\u001b[1;33m    except ExceptionType:\u001b[0m\n\u001b[1;37m    ^\u001b[0m\n\u001b[1;31mIndentationError\u001b[0m\u001b[1;31m:\u001b[0m expected an indented block after 'try' statement on line 3\n"
     ]
    }
   ],
   "source": [
    "# 2. What is the syntax for a basic try-except block?\n",
    "\n",
    "try:\n",
    "    # Code block where an exception might occur\n",
    "    # ...\n",
    "except ExceptionType:\n",
    "    # Code block to handle the exception\n",
    "    # ...\n"
   ]
  },
  {
   "cell_type": "code",
   "execution_count": 1,
   "id": "24001888",
   "metadata": {},
   "outputs": [
    {
     "name": "stdout",
     "output_type": "stream",
     "text": [
      "Enter a number: 34e\n",
      "Error: Invalid input. Please enter a number.\n"
     ]
    }
   ],
   "source": [
    "# 3. What happens if an exception occurs inside a try block and there is no matching except block?\n",
    "\n",
    "# If an exception occurs inside a try block and there is no matching except block to handle that specific exception, \n",
    "# the exception will propagate up the call stack until it is caught by an outer try-except block or until it reaches the \n",
    "# top-level of the program.\n",
    "try:\n",
    "    num = int(input(\"Enter a number: \"))\n",
    "    result = 10 / num\n",
    "    print(\"Result:\", result)\n",
    "except ValueError:\n",
    "    print(\"Error: Invalid input. Please enter a number.\")\n"
   ]
  },
  {
   "cell_type": "code",
   "execution_count": 2,
   "id": "ab73b73e",
   "metadata": {},
   "outputs": [
    {
     "name": "stdout",
     "output_type": "stream",
     "text": [
      "Enter a number: 34e\n",
      "Error: Invalid input. Please enter a number.\n"
     ]
    }
   ],
   "source": [
    "# 4. What is the difference between using a bare except block and specifying a specific exception type?\n",
    "\n",
    "# The difference between using a bare except block and specifying a specific exception type in an except block lies in the\n",
    "# level of control and specificity in handling exceptions.\n",
    "try:\n",
    "    num = int(input(\"Enter a number: \"))\n",
    "    result = 10 / num\n",
    "    print(\"Result:\", result)\n",
    "except ValueError:\n",
    "    print(\"Error: Invalid input. Please enter a number.\")\n",
    "except ZeroDivisionError:\n",
    "    print(\"Error: Cannot divide by zero.\")\n",
    "except Exception:\n",
    "    print(\"An unexpected error occurred.\")\n"
   ]
  },
  {
   "cell_type": "code",
   "execution_count": 3,
   "id": "fdf1c9c9",
   "metadata": {},
   "outputs": [
    {
     "name": "stdout",
     "output_type": "stream",
     "text": [
      "Enter the first number: 44\n",
      "Enter the second number: 3\n",
      "Result: 14.666666666666666\n"
     ]
    }
   ],
   "source": [
    "# 5. Can you have nested try-except blocks in Python? If yes, then give an example.\n",
    "\n",
    "# Yes,\n",
    "\n",
    "try:\n",
    "    # Outer try block\n",
    "    num1 = int(input(\"Enter the first number: \"))\n",
    "    num2 = int(input(\"Enter the second number: \"))\n",
    "\n",
    "    try:\n",
    "        # Inner try block\n",
    "        result = num1 / num2\n",
    "        print(\"Result:\", result)\n",
    "    except ZeroDivisionError:\n",
    "        print(\"Error: Cannot divide by zero.\")\n",
    "except ValueError:\n",
    "    print(\"Error: Invalid input. Please enter numbers.\")\n"
   ]
  },
  {
   "cell_type": "code",
   "execution_count": 4,
   "id": "15249d39",
   "metadata": {},
   "outputs": [
    {
     "name": "stdout",
     "output_type": "stream",
     "text": [
      "Enter a number: 3\n",
      "Result: 3.3333333333333335\n"
     ]
    }
   ],
   "source": [
    "# 6. Can we use multiple exception blocks, if yes then give an example.\n",
    "\n",
    "# Yes,\n",
    "try:\n",
    "    num = int(input(\"Enter a number: \"))\n",
    "    result = 10 / num\n",
    "    print(\"Result:\", result)\n",
    "except ValueError:\n",
    "    print(\"Error: Invalid input. Please enter a number.\")\n",
    "except ZeroDivisionError:\n",
    "    print(\"Error: Cannot divide by zero.\")\n",
    "except Exception as e:\n",
    "    print(\"An unexpected error occurred:\", str(e))\n"
   ]
  },
  {
   "cell_type": "code",
   "execution_count": 5,
   "id": "75b151de",
   "metadata": {},
   "outputs": [],
   "source": [
    "# 7. Write the reason due to which following errors are raised:\n",
    "# a. EOFError\n",
    "# b. FloatingPointError\n",
    "# c. IndexError\n",
    "# d. MemoryError\n",
    "# e. OverflowError\n",
    "# f. TabError\n",
    "# g. ValueError\n",
    "\n",
    "# `EOFError`: This error is raised when the `input()` function hits the end-of-file condition, typically when the input stream is\n",
    "# empty or the user closes the input stream (e.g., by pressing Ctrl+D in Unix-like systems). It indicates that the program\n",
    "# expected more input, but none was provided.\n",
    "\n",
    "# `FloatingPointError`: This error is raised when a floating-point operation encounters an exceptional condition that cannot\n",
    "# be handled, such as division by zero or an overflow/underflow of the floating-point number representation.\n",
    "\n",
    "# `IndexError`: This error is raised when you try to access an index that is outside the range of valid indices for a sequence\n",
    "# (e.g., a list, tuple, or string). It indicates that you are trying to access an element at an invalid or non-existent index.\n",
    "\n",
    "# `MemoryError`: This error is raised when the program runs out of available memory resources to allocate new objects.\n",
    "# It typically occurs when the program tries to create or store a large amount of data that exceeds the available memory capacity.\n",
    "\n",
    "# `OverflowError`: This error is raised when an arithmetic operation exceeds the maximum limit for a numeric type. It occurs\n",
    "# when the result of a computation is too large to be represented within the available numeric range.\n",
    "\n",
    "# `TabError`: This error is raised when there is an indentation-related issue, specifically related to the use of tabs and\n",
    "# spaces for indentation. It usually occurs when mixing tabs and spaces inconsistently in the same block of code, leading\n",
    "# to indentation errors.\n",
    "\n",
    "# `ValueError`: This error is raised when a function receives an argument of the correct type but with an invalid value.\n",
    "# It indicates that the value provided to the function is not within the expected range or does not conform to the required \n",
    "# format."
   ]
  },
  {
   "cell_type": "code",
   "execution_count": 6,
   "id": "b8913a88",
   "metadata": {
    "scrolled": true
   },
   "outputs": [
    {
     "ename": "IndentationError",
     "evalue": "expected an indented block after 'try' statement on line 52 (2008694838.py, line 54)",
     "output_type": "error",
     "traceback": [
      "\u001b[1;36m  Cell \u001b[1;32mIn[6], line 54\u001b[1;36m\u001b[0m\n\u001b[1;33m    except Exception as e:\u001b[0m\n\u001b[1;37m    ^\u001b[0m\n\u001b[1;31mIndentationError\u001b[0m\u001b[1;31m:\u001b[0m expected an indented block after 'try' statement on line 52\n"
     ]
    }
   ],
   "source": [
    "# 8. Write code for the following given scenario and add try-exception block to it.\n",
    "# a. Program to divide two numbers\n",
    "# b. Program to convert a string to an integer\n",
    "# c. Program to access an element in a list\n",
    "# d. Program to handle a specific exception\n",
    "# e. Program to handle any exception\n",
    "\n",
    "# a.\n",
    "try:\n",
    "    num1 = int(input(\"Enter the first number: \"))\n",
    "    num2 = int(input(\"Enter the second number: \"))\n",
    "    result = num1 / num2\n",
    "    print(\"Result:\", result)\n",
    "except ZeroDivisionError:\n",
    "    print(\"Error: Cannot divide by zero.\")\n",
    "except Exception as e:\n",
    "    print(\"An unexpected error occurred:\", str(e))\n",
    "    \n",
    "# b.\n",
    "try:\n",
    "    num_str = input(\"Enter a number: \")\n",
    "    num = int(num_str)\n",
    "    print(\"Number:\", num)\n",
    "except ValueError:\n",
    "    print(\"Error: Invalid input. Please enter a valid integer.\")\n",
    "except Exception as e:\n",
    "    print(\"An unexpected error occurred:\", str(e))\n",
    "\n",
    "# c.\n",
    "try:\n",
    "    my_list = [1, 2, 3, 4, 5]\n",
    "    index = int(input(\"Enter the index of the element: \"))\n",
    "    element = my_list[index]\n",
    "    print(\"Element:\", element)\n",
    "except IndexError:\n",
    "    print(\"Error: Index is out of range.\")\n",
    "except Exception as e:\n",
    "    print(\"An unexpected error occurred:\", str(e))\n",
    "\n",
    "# d.\n",
    "try:\n",
    "    file = open(\"nonexistent_file.txt\", \"r\")\n",
    "    content = file.read()\n",
    "    file.close()\n",
    "    print(\"File content:\", content)\n",
    "except FileNotFoundError:\n",
    "    print(\"Error: File not found.\")\n",
    "except Exception as e:\n",
    "    print(\"An unexpected error occurred:\", str(e))\n",
    "\n",
    "# e.\n",
    "try:\n",
    "    # Code that may raise an exception\n",
    "except Exception as e:\n",
    "    print(\"An error occurred:\", str(e))\n",
    "\n"
   ]
  },
  {
   "cell_type": "code",
   "execution_count": null,
   "id": "59835c6f",
   "metadata": {},
   "outputs": [],
   "source": []
  }
 ],
 "metadata": {
  "kernelspec": {
   "display_name": "Python 3 (ipykernel)",
   "language": "python",
   "name": "python3"
  },
  "language_info": {
   "codemirror_mode": {
    "name": "ipython",
    "version": 3
   },
   "file_extension": ".py",
   "mimetype": "text/x-python",
   "name": "python",
   "nbconvert_exporter": "python",
   "pygments_lexer": "ipython3",
   "version": "3.10.9"
  }
 },
 "nbformat": 4,
 "nbformat_minor": 5
}
