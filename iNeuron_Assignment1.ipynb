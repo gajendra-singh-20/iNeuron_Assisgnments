{
 "cells": [
  {
   "cell_type": "code",
   "execution_count": 1,
   "id": "34f864bc",
   "metadata": {},
   "outputs": [],
   "source": [
    "# 1. In the below elements which of them are values or an expression? eg:- values can be\n",
    "# integer or string and expressions will be mathematical operators.\n",
    "\n",
    "\n",
    "# * - It is a mathematical expression stated as a multiplication expression.\n",
    "\n",
    "# 'hello' - It is a value which can be stored in a variable of string type.\n",
    "\n",
    "# -87.8 - It is a value and its data type is a floating point number.\n",
    "\n",
    "# - - It is a mathematical expression states as a substraction expression.\n",
    "\n",
    "# / - It is a mathematical expression states as a division expression.\n",
    "\n",
    "# + -  It is a mathematical expression states as a addition expression.\n",
    "\n",
    "# 6 - It is a value and its data type is a integer number."
   ]
  },
  {
   "cell_type": "code",
   "execution_count": 2,
   "id": "457dd610",
   "metadata": {},
   "outputs": [],
   "source": [
    "# 2. What is the difference between string and variable?\n",
    "\n",
    "# String - String is one of the data types available in python programming language, just like integer, boolean, etc.\n",
    "#          It used to store collection of words or an single alphabet inside a single and double quotes.\n",
    "\n",
    "# Variable- Variable is the place where we store our all types of values, it is like a container where we place our values of\n",
    "#           different data types."
   ]
  },
  {
   "cell_type": "code",
   "execution_count": 3,
   "id": "1d94254b",
   "metadata": {},
   "outputs": [],
   "source": [
    "# 3.Describe three different data types.\n",
    "\n",
    "# a. Integer - Integer is a data type used to define a number. for example - 'num=10' here num is a variable holding 10 as a integer\n",
    "# b. String - String is a data type used to define a string. for example - ' str=\"Gajendra\" '. Here we have to enclose a string\n",
    "#             into a single or a double quote otherwise it will thorough an error.\n",
    "# c. Floating - Floating point is a data type used to define a decimal digit number. For example - ' num=10.23 ' here num is a variable\n",
    "#               holding 10.23 as a floating value."
   ]
  },
  {
   "cell_type": "code",
   "execution_count": 4,
   "id": "60a12cf7",
   "metadata": {},
   "outputs": [],
   "source": [
    "# 4. What is an expression made up of? What do all expressions do?\n",
    "\n",
    "# The expression in Python is made up of combination of operators and operand.\n",
    "# Expression in Python produces some value or result after being interpreted by the Python interpreter."
   ]
  },
  {
   "cell_type": "code",
   "execution_count": 5,
   "id": "f76cac9a",
   "metadata": {},
   "outputs": [
    {
     "name": "stdout",
     "output_type": "stream",
     "text": [
      "20 10\n"
     ]
    }
   ],
   "source": [
    "# 5. This assignment statements, like spam = 10. What is the difference between an expression and a statement?\n",
    "\n",
    "# Basic difference between an expression and a statement is that, statement in python used to store the value in variable and \n",
    "# for displaying value, where expression produce some result after being executed by python interpretor. For example - \n",
    "\n",
    "spam=10 #statement, because it is storing integer value 10\n",
    "\n",
    "good=spam+10 #expression, because it will increase the value of spam\n",
    "print(good, spam)"
   ]
  },
  {
   "cell_type": "code",
   "execution_count": 6,
   "id": "8ce0975d",
   "metadata": {},
   "outputs": [
    {
     "data": {
      "text/plain": [
       "23"
      ]
     },
     "execution_count": 6,
     "metadata": {},
     "output_type": "execute_result"
    }
   ],
   "source": [
    "# 6. After running the following code, what does the variable bacon contain?\n",
    "bacon = 22\n",
    "bacon + 1\n",
    "bacon # variable bacon will contain 22 only because we are not increasing its original value, to increase its original value \n",
    "#       We have to write like this - \n",
    "bacon=bacon+1\n",
    "bacon"
   ]
  },
  {
   "cell_type": "code",
   "execution_count": 7,
   "id": "81d75361",
   "metadata": {},
   "outputs": [
    {
     "data": {
      "text/plain": [
       "'spamspamspam'"
      ]
     },
     "execution_count": 7,
     "metadata": {},
     "output_type": "execute_result"
    }
   ],
   "source": [
    "# 7. What should the values of the following two terms be?\n",
    "\n",
    "'spam'+'spamspam'\n",
    "'spam' * 3 #both will produce the same result"
   ]
  },
  {
   "cell_type": "code",
   "execution_count": 8,
   "id": "b1230278",
   "metadata": {},
   "outputs": [],
   "source": [
    "# 8. Why is eggs a valid variable name while 100 is invalid?\n",
    "\n",
    "# Because a variable name can not be a number or start with a number, it will confuse python whether 100 is a variable name or \n",
    "#  a integer"
   ]
  },
  {
   "cell_type": "code",
   "execution_count": 9,
   "id": "0ddd9ec8",
   "metadata": {},
   "outputs": [],
   "source": [
    "# 9. What three functions can be used to get the integer, floating-point number, or string version of a value?\n",
    "\n",
    "value=99.9 #suppose this is a floating point value \n",
    "strValue=str(value) #if we use str() function then it will convert into a string type and stores a values as '99.9'\n",
    "intValue=int(value) #if we use int() function then it will convert into a integer type and stores a values as 99 because it will remove preciding digits\n"
   ]
  },
  {
   "cell_type": "code",
   "execution_count": 10,
   "id": "03cc4d2e",
   "metadata": {},
   "outputs": [
    {
     "data": {
      "text/plain": [
       "'I have eaten 99 burritos'"
      ]
     },
     "execution_count": 10,
     "metadata": {},
     "output_type": "execute_result"
    }
   ],
   "source": [
    "# 10. Why does this expression cause an error? How can you fix it?\n",
    "\n",
    "'I have eaten'+99+'burritos' #It will through an error because, we're trying to concatinate string with integer i.e. not possible.\n",
    "'I have eaten'+' 99 '+'burritos' #This is a correct way to write it"
   ]
  }
 ],
 "metadata": {
  "kernelspec": {
   "display_name": "Python 3 (ipykernel)",
   "language": "python",
   "name": "python3"
  },
  "language_info": {
   "codemirror_mode": {
    "name": "ipython",
    "version": 3
   },
   "file_extension": ".py",
   "mimetype": "text/x-python",
   "name": "python",
   "nbconvert_exporter": "python",
   "pygments_lexer": "ipython3",
   "version": "3.10.9"
  }
 },
 "nbformat": 4,
 "nbformat_minor": 5
}
