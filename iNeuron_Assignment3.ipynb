{
 "cells": [
  {
   "cell_type": "code",
   "execution_count": 1,
   "id": "5c22afea",
   "metadata": {},
   "outputs": [],
   "source": [
    "# 1. Why are functions advantageous to have in your programs?\n",
    "\n",
    "# To increase the readablity of code and we can use same functionality again and again.Breaking the code down into smaller\n",
    "# functions keeps the program structured This is called DRY(Don't repeat yourself) principle."
   ]
  },
  {
   "cell_type": "code",
   "execution_count": 2,
   "id": "aed9879f",
   "metadata": {},
   "outputs": [],
   "source": [
    "# 2. When does the code in a function run: when it's specified or when it's called?\n",
    "# Function will only run in the code when it is called."
   ]
  },
  {
   "cell_type": "code",
   "execution_count": 3,
   "id": "408efea7",
   "metadata": {},
   "outputs": [],
   "source": [
    "# 3. What statement creates a function?\n",
    "# to create a function we need to write like this - \n",
    "# def addnum(a,b):\n",
    "#     return a+b"
   ]
  },
  {
   "cell_type": "code",
   "execution_count": 4,
   "id": "1db1fce2",
   "metadata": {},
   "outputs": [
    {
     "name": "stdout",
     "output_type": "stream",
     "text": [
      "66\n"
     ]
    }
   ],
   "source": [
    "# 4. What is the difference between a function and a function call?\n",
    "# Function is the block of code we've defined to perform some task.\n",
    "# Function call is that statement where we call that function. For example - \n",
    "\n",
    "def multiplyNum(a,b):#this is a function\n",
    "    c=a*b\n",
    "    print(c)\n",
    "\n",
    "    \n",
    "multiplyNum(11,6)#this is a cuntion call"
   ]
  },
  {
   "cell_type": "code",
   "execution_count": 5,
   "id": "757bb364",
   "metadata": {},
   "outputs": [
    {
     "name": "stdout",
     "output_type": "stream",
     "text": [
      "20\n"
     ]
    }
   ],
   "source": [
    "# 5. How many global scopes are there in a Python program? How many local scopes?\n",
    "\n",
    "# In python program there is only 1 global scope where varibles, function and classes are defined.Global scope exists throughout\n",
    "# the program\n",
    "# Whereas there are many local scope depending upon the number of function or block of code. Local scopes are temporary and exist\n",
    "# only when function is executing.\n",
    "\n",
    "# global_var = 10  # This is a global variable\n",
    "\n",
    "# def my_function():\n",
    "#     print(global_var)  # Accessing the global variable\n",
    "\n",
    "# my_function()  # Output: 10\n",
    "\n",
    "# -------------------------------------\n",
    "def my_function():\n",
    "    local_var = 20  # This is a local variable\n",
    "    print(local_var)\n",
    "\n",
    "my_function()  # Output: 20\n",
    "\n",
    "# print(local_var)  # Error: NameError: name 'local_var' is not defined\n"
   ]
  },
  {
   "cell_type": "code",
   "execution_count": 6,
   "id": "b4beaf64",
   "metadata": {},
   "outputs": [
    {
     "name": "stdout",
     "output_type": "stream",
     "text": [
      "20\n"
     ]
    }
   ],
   "source": [
    "# 6. What happens to variables in a local scope when the function call returns?\n",
    "\n",
    "# When a function call returns in Python, the local scope associated with that function is destroyed, and any variables defined\n",
    "# within that local scope cease to exist. For example - \n",
    "\n",
    "def my_function():\n",
    "    local_var = 20\n",
    "    print(local_var)\n",
    "\n",
    "my_function()  # Output: 20\n",
    "\n",
    "# print(local_var)  # Error: NameError: name 'local_var' is not defined\n"
   ]
  },
  {
   "cell_type": "code",
   "execution_count": 7,
   "id": "e156f4f5",
   "metadata": {},
   "outputs": [
    {
     "name": "stdout",
     "output_type": "stream",
     "text": [
      "8\n"
     ]
    }
   ],
   "source": [
    "# 7. What is the concept of a return value? Is it possible to have a return value in an expression?\n",
    "\n",
    "# The concept of a return value in programming refers to the value that a function provides back to the caller once the function\n",
    "# has completed its execution.\n",
    "def add_numbers(a, b):\n",
    "    return a + b\n",
    "\n",
    "result = add_numbers(3, 5)\n",
    "print(result)  # Output: 8\n"
   ]
  },
  {
   "cell_type": "code",
   "execution_count": 8,
   "id": "9384422f",
   "metadata": {},
   "outputs": [],
   "source": [
    "# 8. If a function does not have a return statement, what is the return value of a call to that function?\n",
    "\n",
    "# If a function does not have a return statement, or if it reaches the end of the function body without encountering a return\n",
    "# statement, the function will implicitly return None."
   ]
  },
  {
   "cell_type": "code",
   "execution_count": 9,
   "id": "f84512e1",
   "metadata": {},
   "outputs": [
    {
     "name": "stdout",
     "output_type": "stream",
     "text": [
      "10\n"
     ]
    }
   ],
   "source": [
    "# 9. How do you make a function variable refer to the global variable?\n",
    "\n",
    "# We can use the global keyword within the function.\n",
    "global_var = 10\n",
    "\n",
    "def my_function():\n",
    "    global global_var  # Declare the variable as global\n",
    "    print(global_var)  # Access the global variable\n",
    "\n",
    "my_function()  # Output: 10\n"
   ]
  },
  {
   "cell_type": "code",
   "execution_count": 10,
   "id": "7c725ec2",
   "metadata": {},
   "outputs": [
    {
     "data": {
      "text/plain": [
       "NoneType"
      ]
     },
     "execution_count": 10,
     "metadata": {},
     "output_type": "execute_result"
    }
   ],
   "source": [
    "# 10. What is the data type of None?\n",
    "\n",
    "type(None) #NoneType"
   ]
  },
  {
   "cell_type": "code",
   "execution_count": 11,
   "id": "781cc821",
   "metadata": {
    "scrolled": true
   },
   "outputs": [],
   "source": [
    "# 11. What does the sentence import areallyourpetsnamederic do?\n",
    "# import areallyourpetsnamederic #ModuleNotFoundError   "
   ]
  },
  {
   "cell_type": "code",
   "execution_count": 12,
   "id": "bd32f18e",
   "metadata": {},
   "outputs": [],
   "source": [
    "# 12. If you had a bacon() feature in a spam module, what would you call it after importing spam?\n",
    "\n",
    "import spam\n",
    "\n",
    "spam.bacon()  # Call the bacon() function from the spam module\n"
   ]
  },
  {
   "cell_type": "code",
   "execution_count": 13,
   "id": "e8d169a2",
   "metadata": {},
   "outputs": [
    {
     "name": "stdout",
     "output_type": "stream",
     "text": [
      "Error: Division by zero occurred\n",
      "Error handling complete\n"
     ]
    }
   ],
   "source": [
    "# 13. What can you do to save a programme from crashing if it encounters an error?\n",
    "\n",
    "# In Python, we can use the try-except statement to handle crashing\n",
    "try:\n",
    "    # Code that may raise an exception or error\n",
    "    result = 10/0  # Division by zero error\n",
    "    print(result)\n",
    "except ZeroDivisionError:\n",
    "    # Handling specific exception(s)\n",
    "    print(\"Error: Division by zero occurred\")\n",
    "except Exception as e:\n",
    "    # Handling other exceptions \n",
    "    print(\"Error occurred:\", str(e))\n",
    "else:\n",
    "    # Executed if no exception occurred\n",
    "    print(\"No errors occurred\")\n",
    "finally:\n",
    "    # Executed regardless of exceptions\n",
    "    print(\"Error handling complete\")\n"
   ]
  },
  {
   "cell_type": "code",
   "execution_count": 14,
   "id": "a46f6962",
   "metadata": {},
   "outputs": [
    {
     "name": "stdout",
     "output_type": "stream",
     "text": [
      "Error: Division by zero occurred\n"
     ]
    }
   ],
   "source": [
    "# 14. What is the purpose of the try clause? What is the purpose of the except clause?\n",
    "\n",
    "# The purpose of the try clause in Python is to define a block of code where you anticipate that an exception may occur.\n",
    "# The purpose of the except clause is to define the block of code that will be executed if a specific exception occurs within\n",
    "# the corresponding try block.\n",
    "try:\n",
    "    # Code that may raise an exception\n",
    "    result = 10 / 0  # Division by zero error\n",
    "    print(result)\n",
    "except ZeroDivisionError:\n",
    "    # Handling a specific exception\n",
    "    print(\"Error: Division by zero occurred\")\n"
   ]
  }
 ],
 "metadata": {
  "kernelspec": {
   "display_name": "Python 3 (ipykernel)",
   "language": "python",
   "name": "python3"
  },
  "language_info": {
   "codemirror_mode": {
    "name": "ipython",
    "version": 3
   },
   "file_extension": ".py",
   "mimetype": "text/x-python",
   "name": "python",
   "nbconvert_exporter": "python",
   "pygments_lexer": "ipython3",
   "version": "3.10.9"
  }
 },
 "nbformat": 4,
 "nbformat_minor": 5
}
