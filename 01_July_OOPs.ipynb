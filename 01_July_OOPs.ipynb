{
 "cells": [
  {
   "cell_type": "code",
   "execution_count": 1,
   "id": "28c263e9",
   "metadata": {},
   "outputs": [],
   "source": [
    "# 1. What is the primary goal of Object-Oriented Programming (OOP)?\n",
    "\n",
    "# Primary goal of OOPs is to maintain the code in a structured manner and enhance code reusablity"
   ]
  },
  {
   "cell_type": "code",
   "execution_count": 3,
   "id": "7992fec4",
   "metadata": {},
   "outputs": [
    {
     "name": "stdout",
     "output_type": "stream",
     "text": [
      "Gajendra\n"
     ]
    }
   ],
   "source": [
    "# 2. What is an object in Python?\n",
    "\n",
    "# In Python, object represent as a instance of a class. Everything in the Python is an class including symbols, list, dictionary\n",
    "\n",
    "class Person:\n",
    "    pass\n",
    "\n",
    "person1=Person() # here, person1 is an object of Person class\n",
    "person1.name=\"Gajendra\"\n",
    "print(person1.name)"
   ]
  },
  {
   "cell_type": "code",
   "execution_count": 9,
   "id": "308107d2",
   "metadata": {},
   "outputs": [
    {
     "name": "stdout",
     "output_type": "stream",
     "text": [
      "Hi Gajendra, Goodevening !\n"
     ]
    }
   ],
   "source": [
    "# 3. What is a class in Python?\n",
    "\n",
    "# In Python, class is the blueprint to creating an object. It defines the structure and behaviour of an object. It consists of \n",
    "# two things, Attributes(structure) and Methods(behaviour).\n",
    "class Person:\n",
    "    def __init__(self,name): # these are the attributes in a class\n",
    "        self.name=name\n",
    "        \n",
    "    def greeting(self): # these are the methods/functions\n",
    "        print(\"Hi {}, Goodevening !\".format(self.name))\n",
    "        \n",
    "person1=Person(\"Gajendra\")\n",
    "person1.greeting()"
   ]
  },
  {
   "cell_type": "code",
   "execution_count": 10,
   "id": "e846ceb7",
   "metadata": {},
   "outputs": [
    {
     "name": "stdout",
     "output_type": "stream",
     "text": [
      "Hi Gajendra, Goodevening !\n"
     ]
    }
   ],
   "source": [
    "# 4. What are attributes and methods in a class?\n",
    "\n",
    "# Attributes are variables that hold data associated with a class or its instances (objects). They represent the structure\n",
    "# of the object, and assigned values by \"self\" keyword.\n",
    "\n",
    "# Methods are functions defined within a class that perform operations on the object's attributes or provide additional\n",
    "# functionality.\n",
    "\n",
    "class Person:\n",
    "    def __init__(self,name): # these are the attributes in a class\n",
    "        self.name=name\n",
    "        \n",
    "    def greeting(self): # these are the methods/functions\n",
    "        print(\"Hi {}, Goodevening !\".format(self.name))\n",
    "        \n",
    "person1=Person(\"Gajendra\")\n",
    "person1.greeting()"
   ]
  },
  {
   "cell_type": "code",
   "execution_count": 21,
   "id": "e24481c8",
   "metadata": {},
   "outputs": [
    {
     "name": "stdout",
     "output_type": "stream",
     "text": [
      "Human\n",
      "Human\n",
      "Dracula\n"
     ]
    }
   ],
   "source": [
    "# 5. What is the difference between class variables and instance variables in Python?\n",
    "\n",
    "# Class variables are variables that are shared among all instances (objects) of a class. They are defined at the class\n",
    "# level, outside any method.\n",
    "\n",
    "# Instance variables are specific to each instance (object) of a class. They are defined within the instance methods or\n",
    "# the constructor (__init__() method) of the class.\n",
    "\n",
    "class Person:\n",
    "    species=\"Human\" # Class instance, accesible to all members\n",
    "    def __init__(self,name,age):\n",
    "        \n",
    "        self.name=name #these are the instance variables, accesible to respective members\n",
    "        self.age=age\n",
    "        \n",
    "person1=Person(\"Gajendra\",22)\n",
    "person2=Person(\"Vikramaditya\", 25)\n",
    "person1.name\n",
    "person2.age\n",
    "print(person1.species)\n",
    "print(person2.species)\n",
    "person1.species=\"Dracula\"\n",
    "print(person1.species)\n",
    "\n",
    "\n",
    "\n"
   ]
  },
  {
   "cell_type": "code",
   "execution_count": 22,
   "id": "86a63e16",
   "metadata": {},
   "outputs": [],
   "source": [
    "# 6. What is the purpose of the self parameter in Python class methods?\n",
    "\n",
    "# In Python, the self parameter is used in class methods to refer to the instance (object) on which the method is being\n",
    "# called. It acts as a reference to the specific instance"
   ]
  },
  {
   "cell_type": "code",
   "execution_count": 41,
   "id": "5f1c611e",
   "metadata": {},
   "outputs": [
    {
     "name": "stdout",
     "output_type": "stream",
     "text": [
      "Name of the book is Psychology of Money, written by Morgan in 2020, isbn number is 34567 and number of available copies is 12\n",
      "Name of the book is Psychology of Money, written by Morgan in 2020, isbn number is 34567 and number of available copies is 11\n",
      "Name of the book is Psychology of Money, written by Morgan in 2020, isbn number is 34567 and number of available copies is 10\n",
      "Name of the book is Psychology of Money, written by Morgan in 2020, isbn number is 34567 and number of available copies is 11\n"
     ]
    }
   ],
   "source": [
    "# 7. For a library management system, you have to design the \"Book\" class with OOP\n",
    "# principles in mind. The “Book” class will have following attributes:\n",
    "# a. title: Represents the title of the book.\n",
    "# b. author: Represents the author(s) of the book.\n",
    "# c. isbn: Represents the ISBN (International Standard Book Number) of the book.\n",
    "# d. publication_year: Represents the year of publication of the book.\n",
    "# e. available_copies: Represents the number of copies available for checkout.\n",
    "# The class will also include the following methods:\n",
    "# a. check_out(self): Decrements the available copies by one if there are copies\n",
    "# available for checkout.\n",
    "# b. return_book(self): Increments the available copies by one when a book is\n",
    "# returned.\n",
    "# c. display_book_info(self): Displays the information about the book, including its\n",
    "# attributes and the number of available copies.\n",
    "\n",
    "class Book:\n",
    "    def __init__(self,title,author,isbn,publication_year,available_copies):\n",
    "        self.title=title\n",
    "        self.author=author\n",
    "        self.isbn=isbn\n",
    "        self.publication_year=publication_year\n",
    "        self.available_copies=available_copies\n",
    "    def check_out(self):\n",
    "        if self.available_copies<=self.available_copies:\n",
    "            self.available_copies-=1\n",
    "        else:\n",
    "            print(\"No more books\")\n",
    "            \n",
    "    def return_book(self):\n",
    "        self.available_copies+=1\n",
    "    def display_book_info(self):\n",
    "        print(\"Name of the book is {}, written by {} in {}, isbn number is {} and number of available copies is {}\".format(self.title,self.author,self.publication_year,self.isbn,self.available_copies))\n",
    "        \n",
    "        \n",
    "        \n",
    "book1=Book(\"IKIGAI\",\"Francesc\",12345,2016,10)\n",
    "book2=Book(\"Psychology of Money\",\"Morgan\",34567,2020,12)\n",
    "book2.display_book_info()\n",
    "book2.check_out()\n",
    "book2.display_book_info()\n",
    "book2.check_out()\n",
    "book2.display_book_info()\n",
    "book2.return_book()\n",
    "book2.display_book_info()\n",
    "\n",
    "\n"
   ]
  },
  {
   "cell_type": "code",
   "execution_count": 48,
   "id": "da7d33bc",
   "metadata": {},
   "outputs": [
    {
     "name": "stdout",
     "output_type": "stream",
     "text": [
      "Ticket id : 123, Event name : Rath Yatra, Venue : Puri, Seat number : 70, Price : 1600, Reservation Status : CNF\n",
      "Ticket id : 123, Event name : Rath Yatra, Venue : Puri, Seat number : 70, Price : 1600, Reservation Status : CAN\n",
      "Ticket id : 123, Event name : Rath Yatra, Venue : Puri, Seat number : 70, Price : 1600, Reservation Status : CNF\n"
     ]
    }
   ],
   "source": [
    "# 8. For a ticket booking system, you have to design the \"Ticket\" class with OOP\n",
    "# principles in mind. The “Ticket” class should have the following attributes:\n",
    "# a. ticket_id: Represents the unique identifier for the ticket.\n",
    "# b. event_name: Represents the name of the event.\n",
    "# c. event_date: Represents the date of the event.\n",
    "# d. venue: Represents the venue of the event.\n",
    "# e. seat_number: Represents the seat number associated with the ticket.\n",
    "# f. price: Represents the price of the ticket.\n",
    "# g. is_reserved: Represents the reservation status of the ticket.\n",
    "# The class also includes the following methods:\n",
    "# a. reserve_ticket(self): Marks the ticket as reserved if it is not already reserved.\n",
    "# b. cancel_reservation(self): Cancels the reservation of the ticket if it is already\n",
    "# reserved.\n",
    "# c. display_ticket_info(self): Displays the information about the ticket, including its\n",
    "# attributes and reservation status.\n",
    "\n",
    "class Ticket:\n",
    "    def __init__(self,ticket_id,event_name,event_date,venue,seat_number,price,is_reserved):\n",
    "        self.ticket_id=ticket_id\n",
    "        self.event_name=event_name\n",
    "        self.event_date=event_date\n",
    "        self.venue=venue\n",
    "        self.seat_number=seat_number\n",
    "        self.price=price\n",
    "        self.is_reserved=is_reserved\n",
    "    \n",
    "    def resereve_ticket(self):\n",
    "        if self.is_reserved!=\"CNF\":\n",
    "            self.is_reserved=\"CNF\"\n",
    "        else:\n",
    "            print(\"Train is full\")\n",
    "    def cancel_reservation(self):\n",
    "        if self.is_reserved==\"CNF\":\n",
    "            self.is_reserved=\"CAN\"\n",
    "    def display_ticket_info(self):\n",
    "        print(\"Ticket id : {}, Event name : {}, Venue : {}, Seat number : {}, Price : {}, Reservation Status : {}\".format(self.ticket_id,self.event_name,self.venue,self.seat_number,self.price,self.is_reserved))\n",
    "        \n",
    "        \n",
    "    \n",
    "        \n",
    "        \n",
    "tk1=Ticket(123,\"Rath Yatra\",\"20 June\",\"Puri\",70,1600,\"CNF\")\n",
    "tk2=Ticket(234,\"Kumbh Mela\",\"25 July\",\"Allahabad\",15,2030,\"WL3\")\n",
    "tk1.display_ticket_info()\n",
    "tk1.cancel_reservation()\n",
    "tk1.display_ticket_info()\n",
    "tk1.resereve_ticket()\n",
    "tk1.display_ticket_info()\n"
   ]
  },
  {
   "cell_type": "code",
   "execution_count": 68,
   "id": "56c2d1d3",
   "metadata": {},
   "outputs": [],
   "source": [
    "# 9. You are creating a shopping cart for an e-commerce website. Using OOP to model\n",
    "# the \"ShoppingCart\" functionality the class should contain following attributes and\n",
    "# methods:\n",
    "# a. items: Represents the list of items in the shopping cart.\n",
    "# The class also includes the following methods:\n",
    "\n",
    "# a. add_item(self, item): Adds an item to the shopping cart by appending it to the\n",
    "# list of items.\n",
    "# b. remove_item(self, item): Removes an item from the shopping cart if it exists in\n",
    "# the list.\n",
    "# c. view_cart(self): Displays the items currently present in the shopping cart.\n",
    "# d. clear_cart(self): Clears all items from the shopping cart by reassigning an\n",
    "# empty list to the items attribute.\n",
    "\n",
    "class ShoppingCart:\n",
    "    def __init__(self):\n",
    "        self.items=[]\n",
    "        \n",
    "    def add_item(self,item):\n",
    "        self.items.append(item)\n",
    "        \n",
    "    def remove_item(self,item):\n",
    "        if item in self.items:\n",
    "            self.items.remove(item)\n",
    "            \n",
    "    def view_cart(self):\n",
    "        for item in self.items:\n",
    "            print(item)\n",
    "            \n",
    "    def clear_cart(self):\n",
    "        self.items.clear()\n",
    "    \n",
    "sc=ShoppingCart()\n",
    "sc.add_item(\"Juice\")\n",
    "sc.add_item(\"Biscuit\")\n",
    "# sc.view_cart()\n",
    "sc.remove_item(\"Juice\")\n",
    "# sc.view_cart()\n",
    "sc.add_item(\"Wafers\")\n",
    "sc.add_item(\"Sweets\")\n",
    "sc.add_item(\"Soap\")\n",
    "sc.view_cart()\n",
    "sc.clear_cart()\n",
    "sc.view_cart()"
   ]
  },
  {
   "cell_type": "code",
   "execution_count": 70,
   "id": "f914cab2",
   "metadata": {},
   "outputs": [
    {
     "name": "stdout",
     "output_type": "stream",
     "text": [
      "{'2023-07-01': 'present', '2023-07-02': 'absent', '2023-07-03': 'present'}\n",
      "66.66666666666666\n"
     ]
    }
   ],
   "source": [
    "# 10. Imagine a school management system. You have to design the \"Student\" class using\n",
    "# OOP concepts.The “Student” class has the following attributes:\n",
    "# a. name: Represents the name of the student.\n",
    "# b. age: Represents the age of the student.\n",
    "# c. grade: Represents the grade or class of the student.\n",
    "# d. student_id: Represents the unique identifier for the student.\n",
    "# e. attendance: Represents the attendance record of the student.\n",
    "# The class should also include the following methods:\n",
    "# a. update_attendance(self, date, status): Updates the attendance record of the\n",
    "# student for a given date with the provided status (e.g., present or absent).\n",
    "# b. get_attendance(self): Returns the attendance record of the student.\n",
    "# c. get_average_attendance(self): Calculates and returns the average\n",
    "# attendance percentage of the student based on their attendance record.\n",
    "\n",
    "class Student:\n",
    "    def __init__(self, name, age, grade, student_id):\n",
    "        self.name = name\n",
    "        self.age = age\n",
    "        self.grade = grade\n",
    "        self.student_id = student_id\n",
    "        self.attendance = {}\n",
    "\n",
    "    def update_attendance(self, date, status):\n",
    "        self.attendance[date] = status\n",
    "\n",
    "    def get_attendance(self):\n",
    "        return self.attendance\n",
    "\n",
    "    def get_average_attendance(self):\n",
    "        total_days = len(self.attendance)\n",
    "        present_days = sum(status == 'present' for status in self.attendance.values())\n",
    "        attendance_percentage = (present_days / total_days) * 100 if total_days > 0 else 0\n",
    "        return attendance_percentage\n",
    "\n",
    "    \n",
    "student1 = Student(\"Gajendra\", 22, \"10th grade\", \"12345\")\n",
    "student2 = Student(\"Vikram\", 25, \"12th grade\", \"13456\")\n",
    "\n",
    "\n",
    "# Updating attendance\n",
    "student1.update_attendance(\"2023-07-01\", \"present\")\n",
    "student1.update_attendance(\"2023-07-02\", \"absent\")\n",
    "student1.update_attendance(\"2023-07-03\", \"present\")\n",
    "\n",
    "# Getting attendance record\n",
    "attendance_record = student1.get_attendance()\n",
    "print(attendance_record)  # Output: {'2023-07-01': 'present', '2023-07-02': 'absent', '2023-07-03': 'present'}\n",
    "\n",
    "# Getting average attendance percentage\n",
    "average_attendance = student1.get_average_attendance()\n",
    "print(average_attendance)  # Output: 66.66666666666666"
   ]
  },
  {
   "cell_type": "code",
   "execution_count": null,
   "id": "212b6987",
   "metadata": {},
   "outputs": [],
   "source": []
  }
 ],
 "metadata": {
  "kernelspec": {
   "display_name": "Python 3 (ipykernel)",
   "language": "python",
   "name": "python3"
  },
  "language_info": {
   "codemirror_mode": {
    "name": "ipython",
    "version": 3
   },
   "file_extension": ".py",
   "mimetype": "text/x-python",
   "name": "python",
   "nbconvert_exporter": "python",
   "pygments_lexer": "ipython3",
   "version": "3.10.9"
  }
 },
 "nbformat": 4,
 "nbformat_minor": 5
}
