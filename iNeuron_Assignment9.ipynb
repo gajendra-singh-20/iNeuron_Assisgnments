{
 "cells": [
  {
   "cell_type": "code",
   "execution_count": 1,
   "id": "8e326844",
   "metadata": {},
   "outputs": [
    {
     "name": "stdout",
     "output_type": "stream",
     "text": [
      "8\n",
      "8\n"
     ]
    }
   ],
   "source": [
    "# 1. What is a lambda function in Python, and how does it differ from a regular function?\n",
    "\n",
    "# In Python, a lambda function is a small, anonymous function that is defined without a name. It is also known as an\n",
    "# \"anonymous function\" because it doesn't require the def keyword to define it.\n",
    "# Regular function\n",
    "def add_numbers(a, b):\n",
    "    return a + b\n",
    "\n",
    "result = add_numbers(5, 3)\n",
    "print(result)  # Output: 8\n",
    "\n",
    "# Equivalent lambda function\n",
    "add_lambda = lambda a, b: a + b\n",
    "\n",
    "result_lambda = add_lambda(5, 3)\n",
    "print(result_lambda)  # Output: 8\n"
   ]
  },
  {
   "cell_type": "code",
   "execution_count": 5,
   "id": "38f66a57",
   "metadata": {},
   "outputs": [
    {
     "name": "stdout",
     "output_type": "stream",
     "text": [
      "15\n"
     ]
    }
   ],
   "source": [
    "# 2. Can a lambda function in Python have multiple arguments? If yes, how can you define and use them?\n",
    "\n",
    "# lambda function in Python can have multiple arguments. To define a lambda function with multiple arguments, you simply\n",
    "# specify the arguments separated by commas in the lambda function's parameter list.\n",
    "multiply = lambda x, y: x * y\n",
    "\n",
    "result = multiply(5, 3)\n",
    "print(result)  # Output: 15\n"
   ]
  },
  {
   "cell_type": "code",
   "execution_count": 6,
   "id": "6617d617",
   "metadata": {},
   "outputs": [
    {
     "name": "stdout",
     "output_type": "stream",
     "text": [
      "[1, 4, 9, 16, 25]\n",
      "[2, 4]\n"
     ]
    }
   ],
   "source": [
    "# 3. How are lambda functions typically used in Python? Provide an example use case.\n",
    "\n",
    "# Lambda functions in Python are typically used in situations where a small, one-line function is needed, especially as an \n",
    "# argument to higher-order functions like map(), filter(), or reduce().\n",
    "numbers = [1, 2, 3, 4, 5]\n",
    "\n",
    "# Using lambda function with map() to calculate squares of numbers\n",
    "squares = map(lambda x: x ** 2, numbers)\n",
    "print(list(squares))  # Output: [1, 4, 9, 16, 25]\n",
    "\n",
    "# Using lambda function with filter() to filter even numbers\n",
    "even_numbers = filter(lambda x: x % 2 == 0, numbers)\n",
    "print(list(even_numbers))  # Output: [2, 4]\n"
   ]
  },
  {
   "cell_type": "code",
   "execution_count": 7,
   "id": "1be2bd73",
   "metadata": {},
   "outputs": [],
   "source": [
    "# 4. What are the advantages and limitations of lambda functions compared to regular functions in Python?\n",
    "\n",
    "# Advantages: Concise Syntax, No Need for Named Functions, Inline Usage, Functional Programming\n",
    "# Limitation: Single Expression, Limited Functionality, Limited Readability, Debugging"
   ]
  },
  {
   "cell_type": "code",
   "execution_count": 9,
   "id": "aa2aa1fd",
   "metadata": {},
   "outputs": [
    {
     "name": "stdout",
     "output_type": "stream",
     "text": [
      "10\n",
      "15\n"
     ]
    }
   ],
   "source": [
    "# 5. Are lambda functions in Python able to access variables defined outside of their own scope? Explain with an example.\n",
    "\n",
    "# lambda functions in Python can access variables defined outside of their own scope. \n",
    "def multiplier(n):\n",
    "    return lambda x: x * n\n",
    "\n",
    "multiply_by_2 = multiplier(2)\n",
    "multiply_by_3 = multiplier(3)\n",
    "\n",
    "print(multiply_by_2(5))  # Output: 10\n",
    "print(multiply_by_3(5))  # Output: 15\n"
   ]
  },
  {
   "cell_type": "code",
   "execution_count": 10,
   "id": "1fa67dce",
   "metadata": {},
   "outputs": [
    {
     "name": "stdout",
     "output_type": "stream",
     "text": [
      "25\n"
     ]
    }
   ],
   "source": [
    "# 6. Write a lambda function to calculate the square of a given number.\n",
    "\n",
    "square = lambda x: x ** 2\n",
    "\n",
    "result = square(5)\n",
    "print(result)  # Output: 25\n"
   ]
  },
  {
   "cell_type": "code",
   "execution_count": 12,
   "id": "d5b267f9",
   "metadata": {},
   "outputs": [
    {
     "name": "stdout",
     "output_type": "stream",
     "text": [
      "9\n"
     ]
    }
   ],
   "source": [
    "# 7. Create a lambda function to find the maximum value in a list of integers.\n",
    "\n",
    "numbers = [5, 8, 3, 2, 9, 6]\n",
    "\n",
    "max_value = lambda lst: max(lst)\n",
    "\n",
    "result = max_value(numbers)\n",
    "print(result)  # Output: 9\n"
   ]
  },
  {
   "cell_type": "code",
   "execution_count": 15,
   "id": "afc9868d",
   "metadata": {},
   "outputs": [
    {
     "name": "stdout",
     "output_type": "stream",
     "text": [
      "[2, 4, 6, 8, 10]\n"
     ]
    }
   ],
   "source": [
    "# 8. Implement a lambda function to filter out all the even numbers from a list of integers.\n",
    "\n",
    "numbers = [1, 2, 3, 4, 5, 6, 7, 8, 9, 10]\n",
    "\n",
    "even_numbers = list(filter(lambda x: x % 2 == 0, numbers))\n",
    "\n",
    "print(even_numbers)  # Output: [2, 4, 6, 8, 10]\n"
   ]
  },
  {
   "cell_type": "code",
   "execution_count": 25,
   "id": "0c7b2e95",
   "metadata": {},
   "outputs": [
    {
     "name": "stdout",
     "output_type": "stream",
     "text": [
      "['date', 'apple', 'banana', 'cherry', 'elderberry']\n"
     ]
    }
   ],
   "source": [
    "# 9. Write a lambda function to sort a list of strings in ascending order based on the length of each string.\n",
    "\n",
    "strings = [\"apple\", \"banana\", \"cherry\", \"date\", \"elderberry\"]\n",
    "\n",
    "sorted_strings = sorted(strings, key=lambda x: len(x))\n",
    "\n",
    "print(sorted_strings)  # Output: ['date', 'apple', 'cherry', 'banana', 'elderberry']\n"
   ]
  },
  {
   "cell_type": "code",
   "execution_count": 29,
   "id": "4372e8bf",
   "metadata": {},
   "outputs": [
    {
     "name": "stdout",
     "output_type": "stream",
     "text": [
      "[4, 5]\n"
     ]
    }
   ],
   "source": [
    "# 10. Create a lambda function that takes two lists as input and returns a new list containing the common elements between the\n",
    "# two lists.\n",
    "\n",
    "list1 = [1, 2, 3, 4, 5]\n",
    "list2 = [4, 5, 6, 7, 8]\n",
    "\n",
    "common_elements = lambda lst1, lst2: [x for x in lst1 if x in lst2]\n",
    "\n",
    "result = common_elements(list1, list2)\n",
    "print(result)  # Output: [4, 5]\n"
   ]
  },
  {
   "cell_type": "code",
   "execution_count": 33,
   "id": "040848ca",
   "metadata": {},
   "outputs": [
    {
     "name": "stdout",
     "output_type": "stream",
     "text": [
      "The factorial of 5 is: 120\n"
     ]
    }
   ],
   "source": [
    "# 11. Write a recursive function to calculate the factorial of a given positive integer.\n",
    "\n",
    "def factorial(n):\n",
    "    if n == 0:\n",
    "        return 1\n",
    "    else:\n",
    "        return n * factorial(n - 1)\n",
    "\n",
    "# Test the function\n",
    "num = 5\n",
    "result = factorial(num)\n",
    "print(f\"The factorial of {num} is: {result}\")\n"
   ]
  },
  {
   "cell_type": "code",
   "execution_count": 35,
   "id": "75539939",
   "metadata": {},
   "outputs": [
    {
     "name": "stdout",
     "output_type": "stream",
     "text": [
      "The 6th Fibonacci number is: 8\n"
     ]
    }
   ],
   "source": [
    "# 12. Implement a recursive function to compute the nth Fibonacci number.\n",
    "\n",
    "def fibonacci(n):\n",
    "    if n <= 1:\n",
    "        return n\n",
    "    else:\n",
    "        return fibonacci(n - 1) + fibonacci(n - 2)\n",
    "\n",
    "# Test the function\n",
    "num = 6\n",
    "result = fibonacci(num)\n",
    "print(f\"The {num}th Fibonacci number is: {result}\")\n"
   ]
  },
  {
   "cell_type": "code",
   "execution_count": 38,
   "id": "83623845",
   "metadata": {},
   "outputs": [
    {
     "name": "stdout",
     "output_type": "stream",
     "text": [
      "The sum of the list is: 15\n"
     ]
    }
   ],
   "source": [
    "# 13. Create a recursive function to find the sum of all the elements in a given list.\n",
    "\n",
    "def sum_list(lst):\n",
    "    if len(lst) == 0:\n",
    "        return 0\n",
    "    else:\n",
    "        return lst[0] + sum_list(lst[1:])\n",
    "\n",
    "# Test the function\n",
    "numbers = [1, 2, 3, 4, 5]\n",
    "result = sum_list(numbers)\n",
    "print(f\"The sum of the list is: {result}\")\n"
   ]
  },
  {
   "cell_type": "code",
   "execution_count": 42,
   "id": "ac5e9bd3",
   "metadata": {},
   "outputs": [
    {
     "name": "stdout",
     "output_type": "stream",
     "text": [
      "The word 'radar' is a palindrome.\n"
     ]
    }
   ],
   "source": [
    "# 14. Write a recursive function to determine whether a given string is a palindrome.\n",
    "\n",
    "def is_palindrome(string):\n",
    "    if len(string) <= 1:\n",
    "        return True\n",
    "    elif string[0] != string[-1]:\n",
    "        return False\n",
    "    else:\n",
    "        return is_palindrome(string[1:-1])\n",
    "\n",
    "# Test the function\n",
    "word = \"radar\"\n",
    "result = is_palindrome(word)\n",
    "if result:\n",
    "    print(f\"The word '{word}' is a palindrome.\")\n",
    "else:\n",
    "    print(f\"The word '{word}' is not a palindrome.\")\n"
   ]
  },
  {
   "cell_type": "code",
   "execution_count": 45,
   "id": "750fdfaf",
   "metadata": {},
   "outputs": [
    {
     "name": "stdout",
     "output_type": "stream",
     "text": [
      "The GCD of 24 and 36 is: 12\n"
     ]
    }
   ],
   "source": [
    "# 15. Implement a recursive function to find the greatest common divisor (GCD) of two positive integers.\n",
    "\n",
    "def gcd(a, b):\n",
    "    if b == 0:\n",
    "        return a\n",
    "    else:\n",
    "        return gcd(b, a % b)\n",
    "\n",
    "# Test the function\n",
    "num1 = 24\n",
    "num2 = 36\n",
    "result = gcd(num1, num2)\n",
    "print(f\"The GCD of {num1} and {num2} is: {result}\")\n"
   ]
  }
 ],
 "metadata": {
  "kernelspec": {
   "display_name": "Python 3 (ipykernel)",
   "language": "python",
   "name": "python3"
  },
  "language_info": {
   "codemirror_mode": {
    "name": "ipython",
    "version": 3
   },
   "file_extension": ".py",
   "mimetype": "text/x-python",
   "name": "python",
   "nbconvert_exporter": "python",
   "pygments_lexer": "ipython3",
   "version": "3.10.9"
  }
 },
 "nbformat": 4,
 "nbformat_minor": 5
}
