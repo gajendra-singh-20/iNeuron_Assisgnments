{
 "cells": [
  {
   "cell_type": "code",
   "execution_count": 1,
   "id": "447883db",
   "metadata": {},
   "outputs": [
    {
     "name": "stdout",
     "output_type": "stream",
     "text": [
      "['False', 'None', 'True', 'and', 'as', 'assert', 'async', 'await', 'break', 'class', 'continue', 'def', 'del', 'elif', 'else', 'except', 'finally', 'for', 'from', 'global', 'if', 'import', 'in', 'is', 'lambda', 'nonlocal', 'not', 'or', 'pass', 'raise', 'return', 'try', 'while', 'with', 'yield']\n"
     ]
    }
   ],
   "source": [
    "# Q.1. What are keywords in python? Using the keyword library, print all the python keywords.\n",
    "\n",
    "# Keywords are reserved words that have specific meanings and functionalities within the language.\n",
    "import keyword\n",
    "\n",
    "all_keywords = keyword.kwlist\n",
    "print(all_keywords)\n"
   ]
  },
  {
   "cell_type": "code",
   "execution_count": 2,
   "id": "1330ad68",
   "metadata": {},
   "outputs": [],
   "source": [
    "# Q.2. What are the rules to create variables in python?\n",
    "\n",
    "# Variable names in Python can consist of letters (both lowercase and uppercase), digits, and underscores (_).\n",
    "# We cannot use Python keywords as variable names since they are reserved for specific purposes in the language.\n",
    "# Variable names should not contain any special characters such as !, @, #, $, %, etc. They should only contain\n",
    "# alphanumeric characters and underscores."
   ]
  },
  {
   "cell_type": "code",
   "execution_count": 3,
   "id": "4cd8c7e3",
   "metadata": {},
   "outputs": [],
   "source": [
    "# Q.3. What are the standards and conventions followed for the nomenclature of variables in python to improve code readability\n",
    "# and maintainability?\n",
    "\n",
    "# Variable names should be descriptive and convey the purpose or meaning of the variable.\n",
    "# Variable names should be in lowercase, with words separated by underscores.\n",
    "# Except for simple loop counters, avoid using single-character names as they are often not meaningful."
   ]
  },
  {
   "cell_type": "code",
   "execution_count": 4,
   "id": "23732a5c",
   "metadata": {},
   "outputs": [],
   "source": [
    "# Q.4. What will happen if a keyword is used as a variable name?\n",
    "\n",
    "# If we use a keyword as a variable name in Python, you will encounter a syntax error. \n",
    "def=10"
   ]
  },
  {
   "cell_type": "code",
   "execution_count": 5,
   "id": "7153e9d9",
   "metadata": {},
   "outputs": [
    {
     "name": "stdout",
     "output_type": "stream",
     "text": [
      "Hello, Alice!\n"
     ]
    }
   ],
   "source": [
    "# Q.5. For what purpose def keyword is used?\n",
    "\n",
    "# The def keyword in Python is used to define a function.\n",
    "def greet(name):\n",
    "    print(\"Hello, \" + name + \"!\")\n",
    "\n",
    "# Calling the function\n",
    "greet(\"Alice\")\n"
   ]
  },
  {
   "cell_type": "code",
   "execution_count": 6,
   "id": "dc908b14",
   "metadata": {},
   "outputs": [
    {
     "data": {
      "text/plain": [
       "'This is a very long string that needs to be                  split into multiple lines for readability.'"
      ]
     },
     "execution_count": 6,
     "metadata": {},
     "output_type": "execute_result"
    }
   ],
   "source": [
    "# Q.6. What is the operation of this special character ‘\\’?\n",
    "\n",
    "# The special character \\ in Python is known as the backslash. It serves as an escape character\n",
    "my_long_string = \"This is a very long string that needs to be \\\n",
    "                 split into multiple lines for readability.\"\n",
    "my_long_string"
   ]
  },
  {
   "cell_type": "code",
   "execution_count": 7,
   "id": "763e23bb",
   "metadata": {},
   "outputs": [],
   "source": [
    "# Q.7. Give an example of the following conditions:\n",
    "# (i) Homogeneous list\n",
    "# (ii) Heterogeneous set\n",
    "# (iii) Homogeneous tuple\n",
    "\n",
    "\n",
    "# (i) Homogeneous list:\n",
    "# A homogeneous list in Python is a list where all elements have the same data type. Here's an example of a homogeneous\n",
    "# list of integers\n",
    "numbers = [1, 2, 3, 4, 5]\n",
    "\n",
    "# (ii) Heterogeneous set:\n",
    "# A heterogeneous set in Python is a set where the elements can have different data types. Here's an example of a heterogeneous\n",
    "# set:\n",
    "my_set = {1, 'hello', 3.14, True}\n",
    "\n",
    "# (iii) Homogeneous tuple:\n",
    "# A homogeneous tuple in Python is a tuple where all elements have the same data type. Here's an example of a homogeneous\n",
    "# tuple of strings:\n",
    "fruits = ('apple', 'banana', 'orange', 'mango')"
   ]
  },
  {
   "cell_type": "code",
   "execution_count": 8,
   "id": "816b7bc7",
   "metadata": {},
   "outputs": [
    {
     "name": "stdout",
     "output_type": "stream",
     "text": [
      "John\n",
      "John Doe\n",
      "[1, 2, 3, 4, 5]\n",
      "[1, 2, 3, 4, 5, 6]\n",
      "[0, 2, 3, 4, 5, 6]\n"
     ]
    }
   ],
   "source": [
    "# Q.8. Explain the mutable and immutable data types with proper explanation & examples.\n",
    "\n",
    "\n",
    "# Immutable data types are those whose values cannot be changed once they are assigned. If you need to modify an immutable\n",
    "# object, you must create a new object with the desired value.\n",
    "name = \"John\"\n",
    "print(name)  # Output: John\n",
    "\n",
    "name = name + \" Doe\"\n",
    "print(name)  # Output: John Doe\n",
    "\n",
    "\n",
    "# Mutable data types are those whose values can be modified after they are assigned. You can directly modify the existing\n",
    "# object without creating a new one.\n",
    "numbers = [1, 2, 3, 4, 5]\n",
    "print(numbers)  # Output: [1, 2, 3, 4, 5]\n",
    "\n",
    "numbers.append(6)\n",
    "print(numbers)  # Output: [1, 2, 3, 4, 5, 6]\n",
    "\n",
    "numbers[0] = 0\n",
    "print(numbers)  # Output: [0, 2, 3, 4, 5, 6]\n"
   ]
  },
  {
   "cell_type": "code",
   "execution_count": 9,
   "id": "cad561e7",
   "metadata": {},
   "outputs": [
    {
     "name": "stdout",
     "output_type": "stream",
     "text": [
      "* \n",
      "* * \n",
      "* * * \n",
      "* * * * \n",
      "* * * * * \n"
     ]
    }
   ],
   "source": [
    "# Q.9. Write a code to create the given structure using only for loop.\n",
    "# *\n",
    "# ***\n",
    "# *****\n",
    "# *******\n",
    "# *********\n",
    "\n",
    "num=5\n",
    "for row in range(num):\n",
    "    for col in range(row+1):\n",
    "        print(\"*\",end=\" \")\n",
    "    print()"
   ]
  },
  {
   "cell_type": "code",
   "execution_count": 10,
   "id": "e8e8a2f2",
   "metadata": {},
   "outputs": [
    {
     "name": "stdout",
     "output_type": "stream",
     "text": [
      "|||||||||\n",
      "|||||||\n",
      "|||||\n",
      "|||\n",
      "|\n"
     ]
    }
   ],
   "source": [
    "# Q.10. Write a code to create the given structure using while loop.\n",
    "# |||||||||\n",
    "# |||||||\n",
    "# |||||\n",
    "# |||\n",
    "# |\n",
    "\n",
    "num_rows = 5\n",
    "row_length = 9\n",
    "\n",
    "while num_rows > 0:\n",
    "    print('|' * row_length)\n",
    "    row_length -= 2\n",
    "    num_rows -= 1\n"
   ]
  }
 ],
 "metadata": {
  "kernelspec": {
   "display_name": "Python 3 (ipykernel)",
   "language": "python",
   "name": "python3"
  },
  "language_info": {
   "codemirror_mode": {
    "name": "ipython",
    "version": 3
   },
   "file_extension": ".py",
   "mimetype": "text/x-python",
   "name": "python",
   "nbconvert_exporter": "python",
   "pygments_lexer": "ipython3",
   "version": "3.10.9"
  }
 },
 "nbformat": 4,
 "nbformat_minor": 5
}
