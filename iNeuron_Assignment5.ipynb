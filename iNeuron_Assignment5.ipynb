{
 "cells": [
  {
   "cell_type": "code",
   "execution_count": 1,
   "id": "fbea4d26",
   "metadata": {},
   "outputs": [],
   "source": [
    "# 1. What does an empty dictionary's code look like?\n",
    "\n",
    "# In Python, an empty dictionary is represented by a pair of curly braces {}\n",
    "my_dict = {}\n"
   ]
  },
  {
   "cell_type": "code",
   "execution_count": 2,
   "id": "737e531e",
   "metadata": {},
   "outputs": [
    {
     "name": "stdout",
     "output_type": "stream",
     "text": [
      "42\n"
     ]
    }
   ],
   "source": [
    "# 2. What is the value of a dictionary value with the key 'foo' and the value 42?\n",
    "\n",
    "my_dict = {'foo': 42}\n",
    "value = my_dict['foo']\n",
    "print(value)\n"
   ]
  },
  {
   "cell_type": "code",
   "execution_count": 3,
   "id": "3bd10706",
   "metadata": {},
   "outputs": [
    {
     "name": "stdout",
     "output_type": "stream",
     "text": [
      "John\n",
      "20\n",
      "A\n",
      "apple\n",
      "banana\n",
      "orange\n"
     ]
    }
   ],
   "source": [
    "# 3. What is the most significant distinction between a dictionary and a list?\n",
    "\n",
    "# A dictionary is an unordered collection of key-value pairs.On the other hand, a list is an ordered collection of items.\n",
    "# In a dictionary, elements are accessed by their keys. You can use a specific key.Elements in a list are accessed by their\n",
    "# indices, starting from 0.\n",
    "\n",
    "# Creating a dictionary\n",
    "student = {'name': 'John', 'age': 20, 'grade': 'A'}\n",
    "# Accessing dictionary values\n",
    "print(student['name'])  # Output: John\n",
    "print(student['age'])   # Output: 20\n",
    "print(student['grade']) # Output: A\n",
    "\n",
    "# Creating a list\n",
    "fruits = ['apple', 'banana', 'orange']\n",
    "# Accessing list elements\n",
    "print(fruits[0])  # Output: apple\n",
    "print(fruits[1])  # Output: banana\n",
    "print(fruits[2])  # Output: orange\n"
   ]
  },
  {
   "cell_type": "code",
   "execution_count": 4,
   "id": "0e9a1129",
   "metadata": {},
   "outputs": [],
   "source": [
    "# 4. What happens if you try to access spam[boo] if spam is {'bar': 100}?\n",
    "\n",
    "# If you try to access spam['boo'] with spam being {'bar': 100}, you will encounter a KeyError.\n",
    "spam = {'bar': 100}\n",
    "\n",
    "# Trying to access a non-existing key\n",
    "# value = spam['boo']  # Raises KeyError: 'boo'\n"
   ]
  },
  {
   "cell_type": "code",
   "execution_count": 5,
   "id": "773cf93b",
   "metadata": {},
   "outputs": [
    {
     "name": "stdout",
     "output_type": "stream",
     "text": [
      "True\n",
      "True\n"
     ]
    }
   ],
   "source": [
    "# 5. If a dictionary is stored in spam, what is the difference between the expressions 'cat' in spam and 'cat' in spam.keys()?\n",
    "\n",
    "# The expressions 'cat' in spam and 'cat' in spam.keys() are used to check if the key 'cat' exists in the dictionary spam\n",
    "spam = {'cat': 5, 'dog': 3, 'bird': 2}\n",
    "print('cat' in spam)\n",
    "print('cat'in spam.keys())"
   ]
  },
  {
   "cell_type": "code",
   "execution_count": 6,
   "id": "050ef30b",
   "metadata": {},
   "outputs": [
    {
     "name": "stdout",
     "output_type": "stream",
     "text": [
      "True\n",
      "False\n"
     ]
    }
   ],
   "source": [
    "# 6.If a dictionary is stored in spam, what is the difference between the expressions 'cat' in spam and 'cat' in spam.value()?\n",
    "\n",
    "spam = {'cat': 5, 'dog': 3, 'bird': 2}\n",
    "print('cat' in spam)\n",
    "print('cat'in spam.values())"
   ]
  },
  {
   "cell_type": "code",
   "execution_count": 7,
   "id": "585f73cd",
   "metadata": {},
   "outputs": [
    {
     "name": "stdout",
     "output_type": "stream",
     "text": [
      "Object `code` not found.\n"
     ]
    },
    {
     "data": {
      "text/plain": [
       "'black'"
      ]
     },
     "execution_count": 7,
     "metadata": {},
     "output_type": "execute_result"
    }
   ],
   "source": [
    "7. What is a shortcut for the following code?\n",
    "\n",
    "if 'color' not in spam:\n",
    "    spam['color']='black'\n",
    "    \n",
    "# A shortcut for the given code is to use the dict.setdefault() method. The setdefault() method allows you to set a\n",
    "# default value for a key if it doesn't already exist in the dictionary. \n",
    "spam.setdefault('color', 'black')\n"
   ]
  },
  {
   "cell_type": "code",
   "execution_count": 8,
   "id": "2a5eef05",
   "metadata": {},
   "outputs": [
    {
     "name": "stdout",
     "output_type": "stream",
     "text": [
      "{'age': 25, 'city': 'New York', 'name': 'John'}\n"
     ]
    }
   ],
   "source": [
    "# 8. How do you \"pretty print\" dictionary values using which module and function?\n",
    "\n",
    "# To \"pretty print\" dictionary values in Python, you can use the pprint module and its pprint() function. The pprint module\n",
    "# provides a way to display complex data structures, such as dictionaries, in a more readable and formatted manner.\n",
    "import pprint\n",
    "\n",
    "my_dict = {'name': 'John', 'age': 25, 'city': 'New York'}\n",
    "\n",
    "pprint.pprint(my_dict)\n"
   ]
  }
 ],
 "metadata": {
  "kernelspec": {
   "display_name": "Python 3 (ipykernel)",
   "language": "python",
   "name": "python3"
  },
  "language_info": {
   "codemirror_mode": {
    "name": "ipython",
    "version": 3
   },
   "file_extension": ".py",
   "mimetype": "text/x-python",
   "name": "python",
   "nbconvert_exporter": "python",
   "pygments_lexer": "ipython3",
   "version": "3.10.9"
  }
 },
 "nbformat": 4,
 "nbformat_minor": 5
}
